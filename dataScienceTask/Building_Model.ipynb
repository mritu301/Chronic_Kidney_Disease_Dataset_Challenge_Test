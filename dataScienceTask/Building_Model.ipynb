{
  "nbformat": 4,
  "nbformat_minor": 0,
  "metadata": {
    "kernelspec": {
      "name": "python3",
      "display_name": "Python 3"
    },
    "language_info": {
      "codemirror_mode": {
        "name": "ipython",
        "version": 3
      },
      "file_extension": ".py",
      "mimetype": "text/x-python",
      "name": "python",
      "nbconvert_exporter": "python",
      "pygments_lexer": "ipython3",
      "version": "3.6.10"
    },
    "colab": {
      "name": "Building_Model.ipynb",
      "provenance": [],
      "collapsed_sections": []
    },
    "accelerator": "GPU"
  },
  "cells": [
    {
      "cell_type": "markdown",
      "metadata": {
        "id": "5wjzxxDWCV8u",
        "colab_type": "text"
      },
      "source": [
        "# Now Building CKD model after spliting the data into training and test part \n",
        "### (We can split the data into training, test and validation part but the observation points is too small)"
      ]
    },
    {
      "cell_type": "code",
      "metadata": {
        "id": "5rnb_ppRCugR",
        "colab_type": "code",
        "outputId": "eca0530a-38f9-4324-ed5f-b3d3445cb942",
        "colab": {
          "base_uri": "https://localhost:8080/",
          "height": 34
        }
      },
      "source": [
        "from google.colab import drive\n",
        "drive.mount('/content/drive')"
      ],
      "execution_count": 0,
      "outputs": [
        {
          "output_type": "stream",
          "text": [
            "Drive already mounted at /content/drive; to attempt to forcibly remount, call drive.mount(\"/content/drive\", force_remount=True).\n"
          ],
          "name": "stdout"
        }
      ]
    },
    {
      "cell_type": "markdown",
      "metadata": {
        "id": "ogxlZrVSCV82",
        "colab_type": "text"
      },
      "source": [
        "\n",
        "### Load all the relavent libraries"
      ]
    },
    {
      "cell_type": "code",
      "metadata": {
        "id": "pOQWV1ULCV85",
        "colab_type": "code",
        "colab": {}
      },
      "source": [
        "import pandas as pd\n",
        "import numpy as np\n",
        "from sklearn.ensemble import RandomForestClassifier\n",
        "from imblearn.under_sampling import RandomUnderSampler\n",
        "from sklearn.model_selection import train_test_split\n",
        "from sklearn.model_selection import GridSearchCV,train_test_split\n",
        "from sklearn.metrics import recall_score\n",
        "from imblearn.over_sampling import SMOTE\n",
        "from sklearn import metrics"
      ],
      "execution_count": 0,
      "outputs": []
    },
    {
      "cell_type": "code",
      "metadata": {
        "id": "DJn04O5RCV9F",
        "colab_type": "code",
        "outputId": "65ce9c2f-06ca-47c1-f513-432b1b45affc",
        "colab": {}
      },
      "source": [
        "#! pip install imblearn"
      ],
      "execution_count": 0,
      "outputs": [
        {
          "output_type": "stream",
          "text": [
            "Collecting imblearn\n",
            "  Downloading https://files.pythonhosted.org/packages/81/a7/4179e6ebfd654bd0eac0b9c06125b8b4c96a9d0a8ff9e9507eb2a26d2d7e/imblearn-0.0-py2.py3-none-any.whl\n",
            "Collecting imbalanced-learn\n",
            "  Downloading https://files.pythonhosted.org/packages/c8/73/36a13185c2acff44d601dc6107b5347e075561a49e15ddd4e69988414c3e/imbalanced_learn-0.6.2-py3-none-any.whl (163kB)\n",
            "Requirement already satisfied: scikit-learn>=0.22 in a:\\anaconda3\\envs\\nlp_env\\lib\\site-packages (from imbalanced-learn->imblearn) (0.22.1)\n",
            "Requirement already satisfied: numpy>=1.11 in a:\\anaconda3\\envs\\nlp_env\\lib\\site-packages (from imbalanced-learn->imblearn) (1.18.1)\n",
            "Requirement already satisfied: scipy>=0.17 in a:\\anaconda3\\envs\\nlp_env\\lib\\site-packages (from imbalanced-learn->imblearn) (1.4.1)\n",
            "Requirement already satisfied: joblib>=0.11 in a:\\anaconda3\\envs\\nlp_env\\lib\\site-packages (from imbalanced-learn->imblearn) (0.14.1)\n",
            "Installing collected packages: imbalanced-learn, imblearn\n",
            "Successfully installed imbalanced-learn-0.6.2 imblearn-0.0\n"
          ],
          "name": "stdout"
        }
      ]
    },
    {
      "cell_type": "markdown",
      "metadata": {
        "id": "8CuC0RsUCV9R",
        "colab_type": "text"
      },
      "source": [
        "### Load the Consolidated CKD Dataset for further processing"
      ]
    },
    {
      "cell_type": "code",
      "metadata": {
        "id": "Hwd1BPH4CV9T",
        "colab_type": "code",
        "colab": {}
      },
      "source": [
        "CKD = pd.read_csv(\"/content/consolidate_ckd.csv\")"
      ],
      "execution_count": 0,
      "outputs": []
    },
    {
      "cell_type": "code",
      "metadata": {
        "id": "MFvVgWltCV9c",
        "colab_type": "code",
        "outputId": "b5234bbf-7698-4b44-a2f2-f2d492b439ff",
        "colab": {
          "base_uri": "https://localhost:8080/",
          "height": 224
        }
      },
      "source": [
        "CKD.head()"
      ],
      "execution_count": 0,
      "outputs": [
        {
          "output_type": "execute_result",
          "data": {
            "text/html": [
              "<div>\n",
              "<style scoped>\n",
              "    .dataframe tbody tr th:only-of-type {\n",
              "        vertical-align: middle;\n",
              "    }\n",
              "\n",
              "    .dataframe tbody tr th {\n",
              "        vertical-align: top;\n",
              "    }\n",
              "\n",
              "    .dataframe thead th {\n",
              "        text-align: right;\n",
              "    }\n",
              "</style>\n",
              "<table border=\"1\" class=\"dataframe\">\n",
              "  <thead>\n",
              "    <tr style=\"text-align: right;\">\n",
              "      <th></th>\n",
              "      <th>id</th>\n",
              "      <th>race</th>\n",
              "      <th>gender</th>\n",
              "      <th>age</th>\n",
              "      <th>creatinine_no_of_test</th>\n",
              "      <th>creatinine_mean_value</th>\n",
              "      <th>creatinine_duration_of_test</th>\n",
              "      <th>glucose_no_of_test</th>\n",
              "      <th>glucose_mean_value</th>\n",
              "      <th>glucose_duration_of_test</th>\n",
              "      <th>HGB_no_of_test</th>\n",
              "      <th>HGB_mean_value</th>\n",
              "      <th>HGB_duration_of_test</th>\n",
              "      <th>ldl_no_of_test</th>\n",
              "      <th>ldl_mean_value</th>\n",
              "      <th>ldl_duration_of_test</th>\n",
              "      <th>SBP_no_of_test</th>\n",
              "      <th>SBP_mean_value</th>\n",
              "      <th>SBP_duration_of_test</th>\n",
              "      <th>DBP_no_of_test</th>\n",
              "      <th>DBP_mean_value</th>\n",
              "      <th>DBP_duration_of_test</th>\n",
              "      <th>atenolol</th>\n",
              "      <th>atorvastatin</th>\n",
              "      <th>bisoprolol</th>\n",
              "      <th>canagliflozin</th>\n",
              "      <th>carvedilol</th>\n",
              "      <th>dapagliflozin</th>\n",
              "      <th>irbesartan</th>\n",
              "      <th>labetalol</th>\n",
              "      <th>losartan</th>\n",
              "      <th>lovastatin</th>\n",
              "      <th>metformin</th>\n",
              "      <th>metoprolol</th>\n",
              "      <th>nebivolol</th>\n",
              "      <th>olmesartan</th>\n",
              "      <th>pitavastatin</th>\n",
              "      <th>pravastatin</th>\n",
              "      <th>propranolol</th>\n",
              "      <th>rosuvastatin</th>\n",
              "      <th>simvastatin</th>\n",
              "      <th>telmisartan</th>\n",
              "      <th>valsartan</th>\n",
              "      <th>total_no_of_days_with_drug</th>\n",
              "      <th>total_no_of_days_without_drug</th>\n",
              "      <th>Stage_Progress</th>\n",
              "    </tr>\n",
              "  </thead>\n",
              "  <tbody>\n",
              "    <tr>\n",
              "      <th>0</th>\n",
              "      <td>0</td>\n",
              "      <td>Unknown</td>\n",
              "      <td>Male</td>\n",
              "      <td>70</td>\n",
              "      <td>6</td>\n",
              "      <td>1.236667</td>\n",
              "      <td>2043</td>\n",
              "      <td>6</td>\n",
              "      <td>6.456667</td>\n",
              "      <td>2043</td>\n",
              "      <td>9</td>\n",
              "      <td>13.262222</td>\n",
              "      <td>5405</td>\n",
              "      <td>3</td>\n",
              "      <td>143.593333</td>\n",
              "      <td>489</td>\n",
              "      <td>8</td>\n",
              "      <td>139.610000</td>\n",
              "      <td>3169</td>\n",
              "      <td>8</td>\n",
              "      <td>83.173750</td>\n",
              "      <td>3169</td>\n",
              "      <td>NaN</td>\n",
              "      <td>180.0</td>\n",
              "      <td>NaN</td>\n",
              "      <td>NaN</td>\n",
              "      <td>NaN</td>\n",
              "      <td>NaN</td>\n",
              "      <td>NaN</td>\n",
              "      <td>NaN</td>\n",
              "      <td>450.0</td>\n",
              "      <td>NaN</td>\n",
              "      <td>660.0</td>\n",
              "      <td>NaN</td>\n",
              "      <td>NaN</td>\n",
              "      <td>NaN</td>\n",
              "      <td>NaN</td>\n",
              "      <td>NaN</td>\n",
              "      <td>NaN</td>\n",
              "      <td>NaN</td>\n",
              "      <td>NaN</td>\n",
              "      <td>NaN</td>\n",
              "      <td>NaN</td>\n",
              "      <td>1290.0</td>\n",
              "      <td>328.0</td>\n",
              "      <td>True</td>\n",
              "    </tr>\n",
              "    <tr>\n",
              "      <th>1</th>\n",
              "      <td>1</td>\n",
              "      <td>White</td>\n",
              "      <td>Female</td>\n",
              "      <td>71</td>\n",
              "      <td>5</td>\n",
              "      <td>1.838000</td>\n",
              "      <td>1214</td>\n",
              "      <td>5</td>\n",
              "      <td>9.240000</td>\n",
              "      <td>1602</td>\n",
              "      <td>7</td>\n",
              "      <td>13.662857</td>\n",
              "      <td>4777</td>\n",
              "      <td>5</td>\n",
              "      <td>82.424000</td>\n",
              "      <td>1602</td>\n",
              "      <td>7</td>\n",
              "      <td>150.232857</td>\n",
              "      <td>2454</td>\n",
              "      <td>7</td>\n",
              "      <td>80.455714</td>\n",
              "      <td>2454</td>\n",
              "      <td>NaN</td>\n",
              "      <td>300.0</td>\n",
              "      <td>NaN</td>\n",
              "      <td>NaN</td>\n",
              "      <td>NaN</td>\n",
              "      <td>NaN</td>\n",
              "      <td>NaN</td>\n",
              "      <td>NaN</td>\n",
              "      <td>NaN</td>\n",
              "      <td>NaN</td>\n",
              "      <td>NaN</td>\n",
              "      <td>NaN</td>\n",
              "      <td>NaN</td>\n",
              "      <td>NaN</td>\n",
              "      <td>NaN</td>\n",
              "      <td>NaN</td>\n",
              "      <td>NaN</td>\n",
              "      <td>NaN</td>\n",
              "      <td>NaN</td>\n",
              "      <td>NaN</td>\n",
              "      <td>NaN</td>\n",
              "      <td>300.0</td>\n",
              "      <td>221.0</td>\n",
              "      <td>False</td>\n",
              "    </tr>\n",
              "    <tr>\n",
              "      <th>2</th>\n",
              "      <td>2</td>\n",
              "      <td>White</td>\n",
              "      <td>Female</td>\n",
              "      <td>57</td>\n",
              "      <td>5</td>\n",
              "      <td>2.170000</td>\n",
              "      <td>1737</td>\n",
              "      <td>3</td>\n",
              "      <td>6.466667</td>\n",
              "      <td>804</td>\n",
              "      <td>8</td>\n",
              "      <td>15.700000</td>\n",
              "      <td>4500</td>\n",
              "      <td>3</td>\n",
              "      <td>75.283333</td>\n",
              "      <td>681</td>\n",
              "      <td>4</td>\n",
              "      <td>140.210000</td>\n",
              "      <td>1242</td>\n",
              "      <td>4</td>\n",
              "      <td>89.217500</td>\n",
              "      <td>1242</td>\n",
              "      <td>NaN</td>\n",
              "      <td>NaN</td>\n",
              "      <td>NaN</td>\n",
              "      <td>NaN</td>\n",
              "      <td>NaN</td>\n",
              "      <td>NaN</td>\n",
              "      <td>NaN</td>\n",
              "      <td>NaN</td>\n",
              "      <td>NaN</td>\n",
              "      <td>NaN</td>\n",
              "      <td>NaN</td>\n",
              "      <td>NaN</td>\n",
              "      <td>NaN</td>\n",
              "      <td>NaN</td>\n",
              "      <td>NaN</td>\n",
              "      <td>NaN</td>\n",
              "      <td>NaN</td>\n",
              "      <td>180.0</td>\n",
              "      <td>NaN</td>\n",
              "      <td>NaN</td>\n",
              "      <td>NaN</td>\n",
              "      <td>180.0</td>\n",
              "      <td>487.0</td>\n",
              "      <td>True</td>\n",
              "    </tr>\n",
              "    <tr>\n",
              "      <th>3</th>\n",
              "      <td>3</td>\n",
              "      <td>White</td>\n",
              "      <td>Male</td>\n",
              "      <td>74</td>\n",
              "      <td>5</td>\n",
              "      <td>0.996000</td>\n",
              "      <td>1800</td>\n",
              "      <td>6</td>\n",
              "      <td>6.525000</td>\n",
              "      <td>2475</td>\n",
              "      <td>10</td>\n",
              "      <td>13.198000</td>\n",
              "      <td>7395</td>\n",
              "      <td>5</td>\n",
              "      <td>98.246000</td>\n",
              "      <td>1670</td>\n",
              "      <td>7</td>\n",
              "      <td>139.588571</td>\n",
              "      <td>2963</td>\n",
              "      <td>7</td>\n",
              "      <td>74.857143</td>\n",
              "      <td>2963</td>\n",
              "      <td>NaN</td>\n",
              "      <td>360.0</td>\n",
              "      <td>NaN</td>\n",
              "      <td>NaN</td>\n",
              "      <td>NaN</td>\n",
              "      <td>NaN</td>\n",
              "      <td>NaN</td>\n",
              "      <td>NaN</td>\n",
              "      <td>NaN</td>\n",
              "      <td>NaN</td>\n",
              "      <td>NaN</td>\n",
              "      <td>NaN</td>\n",
              "      <td>NaN</td>\n",
              "      <td>NaN</td>\n",
              "      <td>NaN</td>\n",
              "      <td>NaN</td>\n",
              "      <td>NaN</td>\n",
              "      <td>NaN</td>\n",
              "      <td>NaN</td>\n",
              "      <td>NaN</td>\n",
              "      <td>NaN</td>\n",
              "      <td>360.0</td>\n",
              "      <td>301.0</td>\n",
              "      <td>False</td>\n",
              "    </tr>\n",
              "    <tr>\n",
              "      <th>4</th>\n",
              "      <td>4</td>\n",
              "      <td>White</td>\n",
              "      <td>Female</td>\n",
              "      <td>50</td>\n",
              "      <td>6</td>\n",
              "      <td>1.150000</td>\n",
              "      <td>2120</td>\n",
              "      <td>7</td>\n",
              "      <td>9.720000</td>\n",
              "      <td>1974</td>\n",
              "      <td>5</td>\n",
              "      <td>12.658000</td>\n",
              "      <td>2990</td>\n",
              "      <td>4</td>\n",
              "      <td>65.907500</td>\n",
              "      <td>1016</td>\n",
              "      <td>7</td>\n",
              "      <td>160.667143</td>\n",
              "      <td>2445</td>\n",
              "      <td>7</td>\n",
              "      <td>97.385714</td>\n",
              "      <td>2445</td>\n",
              "      <td>NaN</td>\n",
              "      <td>NaN</td>\n",
              "      <td>NaN</td>\n",
              "      <td>NaN</td>\n",
              "      <td>NaN</td>\n",
              "      <td>NaN</td>\n",
              "      <td>NaN</td>\n",
              "      <td>NaN</td>\n",
              "      <td>360.0</td>\n",
              "      <td>NaN</td>\n",
              "      <td>540.0</td>\n",
              "      <td>NaN</td>\n",
              "      <td>NaN</td>\n",
              "      <td>NaN</td>\n",
              "      <td>NaN</td>\n",
              "      <td>720.0</td>\n",
              "      <td>NaN</td>\n",
              "      <td>NaN</td>\n",
              "      <td>NaN</td>\n",
              "      <td>NaN</td>\n",
              "      <td>NaN</td>\n",
              "      <td>1620.0</td>\n",
              "      <td>481.0</td>\n",
              "      <td>True</td>\n",
              "    </tr>\n",
              "  </tbody>\n",
              "</table>\n",
              "</div>"
            ],
            "text/plain": [
              "   id     race  ... total_no_of_days_without_drug  Stage_Progress\n",
              "0   0  Unknown  ...                         328.0            True\n",
              "1   1    White  ...                         221.0           False\n",
              "2   2    White  ...                         487.0            True\n",
              "3   3    White  ...                         301.0           False\n",
              "4   4    White  ...                         481.0            True\n",
              "\n",
              "[5 rows x 46 columns]"
            ]
          },
          "metadata": {
            "tags": []
          },
          "execution_count": 27
        }
      ]
    },
    {
      "cell_type": "code",
      "metadata": {
        "id": "Ot7hcJ12CV9l",
        "colab_type": "code",
        "outputId": "acecdab8-2e57-49e8-a485-2cfd59b721cc",
        "colab": {
          "base_uri": "https://localhost:8080/",
          "height": 68
        }
      },
      "source": [
        "CKD.Stage_Progress.value_counts()"
      ],
      "execution_count": 0,
      "outputs": [
        {
          "output_type": "execute_result",
          "data": {
            "text/plain": [
              "False    200\n",
              "True     100\n",
              "Name: Stage_Progress, dtype: int64"
            ]
          },
          "metadata": {
            "tags": []
          },
          "execution_count": 28
        }
      ]
    },
    {
      "cell_type": "code",
      "metadata": {
        "id": "g6INd8d0Emlh",
        "colab_type": "code",
        "colab": {}
      },
      "source": [
        ""
      ],
      "execution_count": 0,
      "outputs": []
    },
    {
      "cell_type": "code",
      "metadata": {
        "id": "VWq-uL3TCV96",
        "colab_type": "code",
        "outputId": "4e027a69-ac35-4a73-abde-1340a9056173",
        "colab": {
          "base_uri": "https://localhost:8080/",
          "height": 34
        }
      },
      "source": [
        "CKD = CKD[[col for col in CKD.columns if col!='id']] ## removing id columns as it is unique val to identify\n",
        "CKD.shape\n"
      ],
      "execution_count": 0,
      "outputs": [
        {
          "output_type": "execute_result",
          "data": {
            "text/plain": [
              "(300, 45)"
            ]
          },
          "metadata": {
            "tags": []
          },
          "execution_count": 29
        }
      ]
    },
    {
      "cell_type": "code",
      "metadata": {
        "id": "u-6CpibvElyq",
        "colab_type": "code",
        "colab": {}
      },
      "source": [
        ""
      ],
      "execution_count": 0,
      "outputs": []
    },
    {
      "cell_type": "code",
      "metadata": {
        "id": "cercRDxMEVDk",
        "colab_type": "code",
        "outputId": "37ba8ce5-6447-4502-b6b0-6190b32ee6a1",
        "colab": {
          "base_uri": "https://localhost:8080/",
          "height": 34
        }
      },
      "source": [
        "CKD_dummies = pd.get_dummies(data=CKD, columns=['race','gender'],drop_first=True)\n",
        "CKD_dummies.shape"
      ],
      "execution_count": 0,
      "outputs": [
        {
          "output_type": "execute_result",
          "data": {
            "text/plain": [
              "(300, 48)"
            ]
          },
          "metadata": {
            "tags": []
          },
          "execution_count": 30
        }
      ]
    },
    {
      "cell_type": "code",
      "metadata": {
        "id": "79xxECkiE0au",
        "colab_type": "code",
        "outputId": "9f213844-a4db-487a-c326-1bf98c2c693e",
        "colab": {
          "base_uri": "https://localhost:8080/",
          "height": 224
        }
      },
      "source": [
        "CKD_dummies.head()"
      ],
      "execution_count": 0,
      "outputs": [
        {
          "output_type": "execute_result",
          "data": {
            "text/html": [
              "<div>\n",
              "<style scoped>\n",
              "    .dataframe tbody tr th:only-of-type {\n",
              "        vertical-align: middle;\n",
              "    }\n",
              "\n",
              "    .dataframe tbody tr th {\n",
              "        vertical-align: top;\n",
              "    }\n",
              "\n",
              "    .dataframe thead th {\n",
              "        text-align: right;\n",
              "    }\n",
              "</style>\n",
              "<table border=\"1\" class=\"dataframe\">\n",
              "  <thead>\n",
              "    <tr style=\"text-align: right;\">\n",
              "      <th></th>\n",
              "      <th>age</th>\n",
              "      <th>creatinine_no_of_test</th>\n",
              "      <th>creatinine_mean_value</th>\n",
              "      <th>creatinine_duration_of_test</th>\n",
              "      <th>glucose_no_of_test</th>\n",
              "      <th>glucose_mean_value</th>\n",
              "      <th>glucose_duration_of_test</th>\n",
              "      <th>HGB_no_of_test</th>\n",
              "      <th>HGB_mean_value</th>\n",
              "      <th>HGB_duration_of_test</th>\n",
              "      <th>ldl_no_of_test</th>\n",
              "      <th>ldl_mean_value</th>\n",
              "      <th>ldl_duration_of_test</th>\n",
              "      <th>SBP_no_of_test</th>\n",
              "      <th>SBP_mean_value</th>\n",
              "      <th>SBP_duration_of_test</th>\n",
              "      <th>DBP_no_of_test</th>\n",
              "      <th>DBP_mean_value</th>\n",
              "      <th>DBP_duration_of_test</th>\n",
              "      <th>atenolol</th>\n",
              "      <th>atorvastatin</th>\n",
              "      <th>bisoprolol</th>\n",
              "      <th>canagliflozin</th>\n",
              "      <th>carvedilol</th>\n",
              "      <th>dapagliflozin</th>\n",
              "      <th>irbesartan</th>\n",
              "      <th>labetalol</th>\n",
              "      <th>losartan</th>\n",
              "      <th>lovastatin</th>\n",
              "      <th>metformin</th>\n",
              "      <th>metoprolol</th>\n",
              "      <th>nebivolol</th>\n",
              "      <th>olmesartan</th>\n",
              "      <th>pitavastatin</th>\n",
              "      <th>pravastatin</th>\n",
              "      <th>propranolol</th>\n",
              "      <th>rosuvastatin</th>\n",
              "      <th>simvastatin</th>\n",
              "      <th>telmisartan</th>\n",
              "      <th>valsartan</th>\n",
              "      <th>total_no_of_days_with_drug</th>\n",
              "      <th>total_no_of_days_without_drug</th>\n",
              "      <th>Stage_Progress</th>\n",
              "      <th>race_Black</th>\n",
              "      <th>race_Hispanic</th>\n",
              "      <th>race_Unknown</th>\n",
              "      <th>race_White</th>\n",
              "      <th>gender_Male</th>\n",
              "    </tr>\n",
              "  </thead>\n",
              "  <tbody>\n",
              "    <tr>\n",
              "      <th>0</th>\n",
              "      <td>70</td>\n",
              "      <td>6</td>\n",
              "      <td>1.236667</td>\n",
              "      <td>2043</td>\n",
              "      <td>6</td>\n",
              "      <td>6.456667</td>\n",
              "      <td>2043</td>\n",
              "      <td>9</td>\n",
              "      <td>13.262222</td>\n",
              "      <td>5405</td>\n",
              "      <td>3</td>\n",
              "      <td>143.593333</td>\n",
              "      <td>489</td>\n",
              "      <td>8</td>\n",
              "      <td>139.610000</td>\n",
              "      <td>3169</td>\n",
              "      <td>8</td>\n",
              "      <td>83.173750</td>\n",
              "      <td>3169</td>\n",
              "      <td>NaN</td>\n",
              "      <td>180.0</td>\n",
              "      <td>NaN</td>\n",
              "      <td>NaN</td>\n",
              "      <td>NaN</td>\n",
              "      <td>NaN</td>\n",
              "      <td>NaN</td>\n",
              "      <td>NaN</td>\n",
              "      <td>450.0</td>\n",
              "      <td>NaN</td>\n",
              "      <td>660.0</td>\n",
              "      <td>NaN</td>\n",
              "      <td>NaN</td>\n",
              "      <td>NaN</td>\n",
              "      <td>NaN</td>\n",
              "      <td>NaN</td>\n",
              "      <td>NaN</td>\n",
              "      <td>NaN</td>\n",
              "      <td>NaN</td>\n",
              "      <td>NaN</td>\n",
              "      <td>NaN</td>\n",
              "      <td>1290.0</td>\n",
              "      <td>328.0</td>\n",
              "      <td>True</td>\n",
              "      <td>0</td>\n",
              "      <td>0</td>\n",
              "      <td>1</td>\n",
              "      <td>0</td>\n",
              "      <td>1</td>\n",
              "    </tr>\n",
              "    <tr>\n",
              "      <th>1</th>\n",
              "      <td>71</td>\n",
              "      <td>5</td>\n",
              "      <td>1.838000</td>\n",
              "      <td>1214</td>\n",
              "      <td>5</td>\n",
              "      <td>9.240000</td>\n",
              "      <td>1602</td>\n",
              "      <td>7</td>\n",
              "      <td>13.662857</td>\n",
              "      <td>4777</td>\n",
              "      <td>5</td>\n",
              "      <td>82.424000</td>\n",
              "      <td>1602</td>\n",
              "      <td>7</td>\n",
              "      <td>150.232857</td>\n",
              "      <td>2454</td>\n",
              "      <td>7</td>\n",
              "      <td>80.455714</td>\n",
              "      <td>2454</td>\n",
              "      <td>NaN</td>\n",
              "      <td>300.0</td>\n",
              "      <td>NaN</td>\n",
              "      <td>NaN</td>\n",
              "      <td>NaN</td>\n",
              "      <td>NaN</td>\n",
              "      <td>NaN</td>\n",
              "      <td>NaN</td>\n",
              "      <td>NaN</td>\n",
              "      <td>NaN</td>\n",
              "      <td>NaN</td>\n",
              "      <td>NaN</td>\n",
              "      <td>NaN</td>\n",
              "      <td>NaN</td>\n",
              "      <td>NaN</td>\n",
              "      <td>NaN</td>\n",
              "      <td>NaN</td>\n",
              "      <td>NaN</td>\n",
              "      <td>NaN</td>\n",
              "      <td>NaN</td>\n",
              "      <td>NaN</td>\n",
              "      <td>300.0</td>\n",
              "      <td>221.0</td>\n",
              "      <td>False</td>\n",
              "      <td>0</td>\n",
              "      <td>0</td>\n",
              "      <td>0</td>\n",
              "      <td>1</td>\n",
              "      <td>0</td>\n",
              "    </tr>\n",
              "    <tr>\n",
              "      <th>2</th>\n",
              "      <td>57</td>\n",
              "      <td>5</td>\n",
              "      <td>2.170000</td>\n",
              "      <td>1737</td>\n",
              "      <td>3</td>\n",
              "      <td>6.466667</td>\n",
              "      <td>804</td>\n",
              "      <td>8</td>\n",
              "      <td>15.700000</td>\n",
              "      <td>4500</td>\n",
              "      <td>3</td>\n",
              "      <td>75.283333</td>\n",
              "      <td>681</td>\n",
              "      <td>4</td>\n",
              "      <td>140.210000</td>\n",
              "      <td>1242</td>\n",
              "      <td>4</td>\n",
              "      <td>89.217500</td>\n",
              "      <td>1242</td>\n",
              "      <td>NaN</td>\n",
              "      <td>NaN</td>\n",
              "      <td>NaN</td>\n",
              "      <td>NaN</td>\n",
              "      <td>NaN</td>\n",
              "      <td>NaN</td>\n",
              "      <td>NaN</td>\n",
              "      <td>NaN</td>\n",
              "      <td>NaN</td>\n",
              "      <td>NaN</td>\n",
              "      <td>NaN</td>\n",
              "      <td>NaN</td>\n",
              "      <td>NaN</td>\n",
              "      <td>NaN</td>\n",
              "      <td>NaN</td>\n",
              "      <td>NaN</td>\n",
              "      <td>NaN</td>\n",
              "      <td>180.0</td>\n",
              "      <td>NaN</td>\n",
              "      <td>NaN</td>\n",
              "      <td>NaN</td>\n",
              "      <td>180.0</td>\n",
              "      <td>487.0</td>\n",
              "      <td>True</td>\n",
              "      <td>0</td>\n",
              "      <td>0</td>\n",
              "      <td>0</td>\n",
              "      <td>1</td>\n",
              "      <td>0</td>\n",
              "    </tr>\n",
              "    <tr>\n",
              "      <th>3</th>\n",
              "      <td>74</td>\n",
              "      <td>5</td>\n",
              "      <td>0.996000</td>\n",
              "      <td>1800</td>\n",
              "      <td>6</td>\n",
              "      <td>6.525000</td>\n",
              "      <td>2475</td>\n",
              "      <td>10</td>\n",
              "      <td>13.198000</td>\n",
              "      <td>7395</td>\n",
              "      <td>5</td>\n",
              "      <td>98.246000</td>\n",
              "      <td>1670</td>\n",
              "      <td>7</td>\n",
              "      <td>139.588571</td>\n",
              "      <td>2963</td>\n",
              "      <td>7</td>\n",
              "      <td>74.857143</td>\n",
              "      <td>2963</td>\n",
              "      <td>NaN</td>\n",
              "      <td>360.0</td>\n",
              "      <td>NaN</td>\n",
              "      <td>NaN</td>\n",
              "      <td>NaN</td>\n",
              "      <td>NaN</td>\n",
              "      <td>NaN</td>\n",
              "      <td>NaN</td>\n",
              "      <td>NaN</td>\n",
              "      <td>NaN</td>\n",
              "      <td>NaN</td>\n",
              "      <td>NaN</td>\n",
              "      <td>NaN</td>\n",
              "      <td>NaN</td>\n",
              "      <td>NaN</td>\n",
              "      <td>NaN</td>\n",
              "      <td>NaN</td>\n",
              "      <td>NaN</td>\n",
              "      <td>NaN</td>\n",
              "      <td>NaN</td>\n",
              "      <td>NaN</td>\n",
              "      <td>360.0</td>\n",
              "      <td>301.0</td>\n",
              "      <td>False</td>\n",
              "      <td>0</td>\n",
              "      <td>0</td>\n",
              "      <td>0</td>\n",
              "      <td>1</td>\n",
              "      <td>1</td>\n",
              "    </tr>\n",
              "    <tr>\n",
              "      <th>4</th>\n",
              "      <td>50</td>\n",
              "      <td>6</td>\n",
              "      <td>1.150000</td>\n",
              "      <td>2120</td>\n",
              "      <td>7</td>\n",
              "      <td>9.720000</td>\n",
              "      <td>1974</td>\n",
              "      <td>5</td>\n",
              "      <td>12.658000</td>\n",
              "      <td>2990</td>\n",
              "      <td>4</td>\n",
              "      <td>65.907500</td>\n",
              "      <td>1016</td>\n",
              "      <td>7</td>\n",
              "      <td>160.667143</td>\n",
              "      <td>2445</td>\n",
              "      <td>7</td>\n",
              "      <td>97.385714</td>\n",
              "      <td>2445</td>\n",
              "      <td>NaN</td>\n",
              "      <td>NaN</td>\n",
              "      <td>NaN</td>\n",
              "      <td>NaN</td>\n",
              "      <td>NaN</td>\n",
              "      <td>NaN</td>\n",
              "      <td>NaN</td>\n",
              "      <td>NaN</td>\n",
              "      <td>360.0</td>\n",
              "      <td>NaN</td>\n",
              "      <td>540.0</td>\n",
              "      <td>NaN</td>\n",
              "      <td>NaN</td>\n",
              "      <td>NaN</td>\n",
              "      <td>NaN</td>\n",
              "      <td>720.0</td>\n",
              "      <td>NaN</td>\n",
              "      <td>NaN</td>\n",
              "      <td>NaN</td>\n",
              "      <td>NaN</td>\n",
              "      <td>NaN</td>\n",
              "      <td>1620.0</td>\n",
              "      <td>481.0</td>\n",
              "      <td>True</td>\n",
              "      <td>0</td>\n",
              "      <td>0</td>\n",
              "      <td>0</td>\n",
              "      <td>1</td>\n",
              "      <td>0</td>\n",
              "    </tr>\n",
              "  </tbody>\n",
              "</table>\n",
              "</div>"
            ],
            "text/plain": [
              "   age  creatinine_no_of_test  ...  race_White  gender_Male\n",
              "0   70                      6  ...           0            1\n",
              "1   71                      5  ...           1            0\n",
              "2   57                      5  ...           1            0\n",
              "3   74                      5  ...           1            1\n",
              "4   50                      6  ...           1            0\n",
              "\n",
              "[5 rows x 48 columns]"
            ]
          },
          "metadata": {
            "tags": []
          },
          "execution_count": 31
        }
      ]
    },
    {
      "cell_type": "code",
      "metadata": {
        "id": "9MjITaedE6aU",
        "colab_type": "code",
        "colab": {}
      },
      "source": [
        ""
      ],
      "execution_count": 0,
      "outputs": []
    },
    {
      "cell_type": "code",
      "metadata": {
        "id": "2Ywm4wbrE6ld",
        "colab_type": "code",
        "outputId": "3f633859-0a0e-4eae-f20f-5f8d2870b0c9",
        "colab": {
          "base_uri": "https://localhost:8080/",
          "height": 850
        }
      },
      "source": [
        "CKD_dummies.isnull().sum()"
      ],
      "execution_count": 0,
      "outputs": [
        {
          "output_type": "execute_result",
          "data": {
            "text/plain": [
              "age                                0\n",
              "creatinine_no_of_test              0\n",
              "creatinine_mean_value              0\n",
              "creatinine_duration_of_test        0\n",
              "glucose_no_of_test                 0\n",
              "glucose_mean_value                 0\n",
              "glucose_duration_of_test           0\n",
              "HGB_no_of_test                     0\n",
              "HGB_mean_value                     0\n",
              "HGB_duration_of_test               0\n",
              "ldl_no_of_test                     0\n",
              "ldl_mean_value                     0\n",
              "ldl_duration_of_test               0\n",
              "SBP_no_of_test                     0\n",
              "SBP_mean_value                     0\n",
              "SBP_duration_of_test               0\n",
              "DBP_no_of_test                     0\n",
              "DBP_mean_value                     0\n",
              "DBP_duration_of_test               0\n",
              "atenolol                         274\n",
              "atorvastatin                     191\n",
              "bisoprolol                       295\n",
              "canagliflozin                    296\n",
              "carvedilol                       283\n",
              "dapagliflozin                    298\n",
              "irbesartan                       294\n",
              "labetalol                        299\n",
              "losartan                         229\n",
              "lovastatin                       284\n",
              "metformin                        184\n",
              "metoprolol                       240\n",
              "nebivolol                        298\n",
              "olmesartan                       293\n",
              "pitavastatin                     298\n",
              "pravastatin                      272\n",
              "propranolol                      298\n",
              "rosuvastatin                     269\n",
              "simvastatin                      225\n",
              "telmisartan                      296\n",
              "valsartan                        273\n",
              "total_no_of_days_with_drug        28\n",
              "total_no_of_days_without_drug     28\n",
              "Stage_Progress                     0\n",
              "race_Black                         0\n",
              "race_Hispanic                      0\n",
              "race_Unknown                       0\n",
              "race_White                         0\n",
              "gender_Male                        0\n",
              "dtype: int64"
            ]
          },
          "metadata": {
            "tags": []
          },
          "execution_count": 32
        }
      ]
    },
    {
      "cell_type": "code",
      "metadata": {
        "id": "DGfRMVzxGfNG",
        "colab_type": "code",
        "colab": {}
      },
      "source": [
        ""
      ],
      "execution_count": 0,
      "outputs": []
    },
    {
      "cell_type": "code",
      "metadata": {
        "id": "uaLw6azcGhct",
        "colab_type": "code",
        "colab": {}
      },
      "source": [
        "CKD_dummies.fillna(0,inplace=True)"
      ],
      "execution_count": 0,
      "outputs": []
    },
    {
      "cell_type": "code",
      "metadata": {
        "id": "x5-A7HZWGhpz",
        "colab_type": "code",
        "colab": {}
      },
      "source": [
        ""
      ],
      "execution_count": 0,
      "outputs": []
    },
    {
      "cell_type": "code",
      "metadata": {
        "id": "3b7nEQySGfdU",
        "colab_type": "code",
        "outputId": "f873e9c3-df7f-413d-98f4-313bb5f04ad2",
        "colab": {
          "base_uri": "https://localhost:8080/",
          "height": 850
        }
      },
      "source": [
        "CKD_dummies.isnull().sum()"
      ],
      "execution_count": 0,
      "outputs": [
        {
          "output_type": "execute_result",
          "data": {
            "text/plain": [
              "age                              0\n",
              "creatinine_no_of_test            0\n",
              "creatinine_mean_value            0\n",
              "creatinine_duration_of_test      0\n",
              "glucose_no_of_test               0\n",
              "glucose_mean_value               0\n",
              "glucose_duration_of_test         0\n",
              "HGB_no_of_test                   0\n",
              "HGB_mean_value                   0\n",
              "HGB_duration_of_test             0\n",
              "ldl_no_of_test                   0\n",
              "ldl_mean_value                   0\n",
              "ldl_duration_of_test             0\n",
              "SBP_no_of_test                   0\n",
              "SBP_mean_value                   0\n",
              "SBP_duration_of_test             0\n",
              "DBP_no_of_test                   0\n",
              "DBP_mean_value                   0\n",
              "DBP_duration_of_test             0\n",
              "atenolol                         0\n",
              "atorvastatin                     0\n",
              "bisoprolol                       0\n",
              "canagliflozin                    0\n",
              "carvedilol                       0\n",
              "dapagliflozin                    0\n",
              "irbesartan                       0\n",
              "labetalol                        0\n",
              "losartan                         0\n",
              "lovastatin                       0\n",
              "metformin                        0\n",
              "metoprolol                       0\n",
              "nebivolol                        0\n",
              "olmesartan                       0\n",
              "pitavastatin                     0\n",
              "pravastatin                      0\n",
              "propranolol                      0\n",
              "rosuvastatin                     0\n",
              "simvastatin                      0\n",
              "telmisartan                      0\n",
              "valsartan                        0\n",
              "total_no_of_days_with_drug       0\n",
              "total_no_of_days_without_drug    0\n",
              "Stage_Progress                   0\n",
              "race_Black                       0\n",
              "race_Hispanic                    0\n",
              "race_Unknown                     0\n",
              "race_White                       0\n",
              "gender_Male                      0\n",
              "dtype: int64"
            ]
          },
          "metadata": {
            "tags": []
          },
          "execution_count": 34
        }
      ]
    },
    {
      "cell_type": "code",
      "metadata": {
        "id": "MtcR4t8zHGVK",
        "colab_type": "code",
        "colab": {}
      },
      "source": [
        ""
      ],
      "execution_count": 0,
      "outputs": []
    },
    {
      "cell_type": "code",
      "metadata": {
        "id": "-zatXhHPHKRW",
        "colab_type": "code",
        "outputId": "92e762f8-b60b-4168-f124-bac903c43304",
        "colab": {
          "base_uri": "https://localhost:8080/",
          "height": 51
        }
      },
      "source": [
        "x = CKD_dummies[[col for col in CKD_dummies.columns if col!='Stage_Progress']]\n",
        "y = CKD_dummies['Stage_Progress']\n",
        "print(x.shape)\n",
        "print(y.shape)"
      ],
      "execution_count": 0,
      "outputs": [
        {
          "output_type": "stream",
          "text": [
            "(300, 47)\n",
            "(300,)\n"
          ],
          "name": "stdout"
        }
      ]
    },
    {
      "cell_type": "code",
      "metadata": {
        "id": "XmJSqBrcHUQG",
        "colab_type": "code",
        "outputId": "8a1029bc-df49-484f-a73f-58587b34f82a",
        "colab": {
          "base_uri": "https://localhost:8080/",
          "height": 85
        }
      },
      "source": [
        "x_train,x_test,y_train,y_test = train_test_split(x,y,test_size=0.10,random_state=20)\n",
        "print(x_train.shape)\n",
        "print(x_test.shape)\n",
        "print(y_train.shape)\n",
        "print(y_test.shape)"
      ],
      "execution_count": 0,
      "outputs": [
        {
          "output_type": "stream",
          "text": [
            "(270, 47)\n",
            "(30, 47)\n",
            "(270,)\n",
            "(30,)\n"
          ],
          "name": "stdout"
        }
      ]
    },
    {
      "cell_type": "code",
      "metadata": {
        "id": "doDBZS_gHvqZ",
        "colab_type": "code",
        "colab": {}
      },
      "source": [
        ""
      ],
      "execution_count": 0,
      "outputs": []
    },
    {
      "cell_type": "code",
      "metadata": {
        "id": "Pa9s1jRcHv1C",
        "colab_type": "code",
        "outputId": "d6df9290-f125-4843-83d7-8f987a2e9edd",
        "colab": {
          "base_uri": "https://localhost:8080/",
          "height": 153
        }
      },
      "source": [
        "model = RandomForestClassifier()\n",
        "model.fit(x_train,y_train)"
      ],
      "execution_count": 0,
      "outputs": [
        {
          "output_type": "execute_result",
          "data": {
            "text/plain": [
              "RandomForestClassifier(bootstrap=True, ccp_alpha=0.0, class_weight=None,\n",
              "                       criterion='gini', max_depth=None, max_features='auto',\n",
              "                       max_leaf_nodes=None, max_samples=None,\n",
              "                       min_impurity_decrease=0.0, min_impurity_split=None,\n",
              "                       min_samples_leaf=1, min_samples_split=2,\n",
              "                       min_weight_fraction_leaf=0.0, n_estimators=100,\n",
              "                       n_jobs=None, oob_score=False, random_state=None,\n",
              "                       verbose=0, warm_start=False)"
            ]
          },
          "metadata": {
            "tags": []
          },
          "execution_count": 40
        }
      ]
    },
    {
      "cell_type": "code",
      "metadata": {
        "id": "ldm99A8jHUVF",
        "colab_type": "code",
        "colab": {}
      },
      "source": [
        ""
      ],
      "execution_count": 0,
      "outputs": []
    },
    {
      "cell_type": "code",
      "metadata": {
        "id": "iVDtkFrCH228",
        "colab_type": "code",
        "outputId": "d874c319-4f6a-4d20-eccb-60988917bef3",
        "colab": {
          "base_uri": "https://localhost:8080/",
          "height": 153
        }
      },
      "source": [
        "print(model.feature_importances_)"
      ],
      "execution_count": 0,
      "outputs": [
        {
          "output_type": "stream",
          "text": [
            "[0.04713056 0.01581723 0.08163246 0.04119506 0.01857724 0.05038758\n",
            " 0.0391861  0.03155928 0.06642724 0.0477308  0.01902588 0.03765149\n",
            " 0.04017072 0.02103606 0.04949616 0.04885292 0.0174916  0.0403701\n",
            " 0.04258351 0.00578686 0.01675883 0.00096528 0.00045839 0.00368121\n",
            " 0.00085493 0.00255452 0.00011107 0.01141877 0.00509641 0.02083384\n",
            " 0.01621847 0.00265652 0.0008605  0.00013587 0.01561918 0.00070087\n",
            " 0.00556758 0.01077743 0.00277709 0.00689081 0.03389604 0.04219523\n",
            " 0.00283871 0.00190245 0.00376826 0.00542606 0.02292684]\n"
          ],
          "name": "stdout"
        }
      ]
    },
    {
      "cell_type": "code",
      "metadata": {
        "id": "KNkEj_5gH_d0",
        "colab_type": "code",
        "colab": {}
      },
      "source": [
        "y_pred = model.predict(x_test)"
      ],
      "execution_count": 0,
      "outputs": []
    },
    {
      "cell_type": "code",
      "metadata": {
        "id": "hUvfaKK6IEFv",
        "colab_type": "code",
        "colab": {}
      },
      "source": [
        ""
      ],
      "execution_count": 0,
      "outputs": []
    },
    {
      "cell_type": "code",
      "metadata": {
        "id": "Lb6WytYOIEK5",
        "colab_type": "code",
        "outputId": "bd969a98-05bf-4195-a076-de2e1648e50a",
        "colab": {
          "base_uri": "https://localhost:8080/",
          "height": 102
        }
      },
      "source": [
        "print('recall:-',metrics.recall_score(y_test,y_pred)*100)\n",
        "print('precision:-',metrics.precision_score(y_test,y_pred)*100)\n",
        "print(metrics.accuracy_score(y_test,y_pred)*100)\n",
        "metrics.confusion_matrix(y_test,y_pred)"
      ],
      "execution_count": 0,
      "outputs": [
        {
          "output_type": "stream",
          "text": [
            "recall:- 20.0\n",
            "precision:- 22.22222222222222\n",
            "50.0\n"
          ],
          "name": "stdout"
        },
        {
          "output_type": "execute_result",
          "data": {
            "text/plain": [
              "array([[13,  7],\n",
              "       [ 8,  2]])"
            ]
          },
          "metadata": {
            "tags": []
          },
          "execution_count": 45
        }
      ]
    },
    {
      "cell_type": "code",
      "metadata": {
        "id": "Asu3EUZaI1K-",
        "colab_type": "code",
        "colab": {}
      },
      "source": [
        ""
      ],
      "execution_count": 0,
      "outputs": []
    },
    {
      "cell_type": "code",
      "metadata": {
        "id": "ah4vbZr-I1WF",
        "colab_type": "code",
        "outputId": "ccb34e2e-f723-444c-b674-6497080e2ff6",
        "colab": {
          "base_uri": "https://localhost:8080/",
          "height": 34
        }
      },
      "source": [
        "x_train.shape, y_train.shape"
      ],
      "execution_count": 0,
      "outputs": [
        {
          "output_type": "execute_result",
          "data": {
            "text/plain": [
              "((270, 47), (270,))"
            ]
          },
          "metadata": {
            "tags": []
          },
          "execution_count": 46
        }
      ]
    },
    {
      "cell_type": "code",
      "metadata": {
        "id": "zARkuq-cI4gt",
        "colab_type": "code",
        "outputId": "6783ac3b-c222-4855-ccfe-46c8d028af64",
        "colab": {
          "base_uri": "https://localhost:8080/",
          "height": 71
        }
      },
      "source": [
        "##lets use SMOTE and Oversample minority classes\n",
        "sm = SMOTE(random_state=20,ratio=1.0)\n",
        "x_train, y_train = sm.fit_sample(x_train,y_train)"
      ],
      "execution_count": 0,
      "outputs": [
        {
          "output_type": "stream",
          "text": [
            "/usr/local/lib/python3.6/dist-packages/sklearn/utils/deprecation.py:87: FutureWarning: Function safe_indexing is deprecated; safe_indexing is deprecated in version 0.22 and will be removed in version 0.24.\n",
            "  warnings.warn(msg, category=FutureWarning)\n"
          ],
          "name": "stderr"
        }
      ]
    },
    {
      "cell_type": "code",
      "metadata": {
        "id": "llysQoDkJQlD",
        "colab_type": "code",
        "outputId": "c63b2e78-16a5-4e43-ffa1-d96ed23f0d4b",
        "colab": {
          "base_uri": "https://localhost:8080/",
          "height": 34
        }
      },
      "source": [
        "print(x_train.shape,y_train.shape)"
      ],
      "execution_count": 0,
      "outputs": [
        {
          "output_type": "stream",
          "text": [
            "(360, 47) (360,)\n"
          ],
          "name": "stdout"
        }
      ]
    },
    {
      "cell_type": "code",
      "metadata": {
        "id": "_8CRFTWBJXwB",
        "colab_type": "code",
        "colab": {}
      },
      "source": [
        ""
      ],
      "execution_count": 0,
      "outputs": []
    },
    {
      "cell_type": "code",
      "metadata": {
        "id": "422vSznJJXsZ",
        "colab_type": "code",
        "outputId": "c3985230-61ac-4272-cd48-30befe95df00",
        "colab": {
          "base_uri": "https://localhost:8080/",
          "height": 102
        }
      },
      "source": [
        "## lets apply random forest again and check the recall and precision\n",
        "model_oversampling = RandomForestClassifier()\n",
        "model_oversampling.fit(x_train,y_train)\n",
        "y_pred_oversampling = model_oversampling.predict(x_test)\n",
        "print('recall:-',metrics.recall_score(y_test,y_pred_oversampling)*100)\n",
        "print('precision:-',metrics.precision_score(y_test,y_pred_oversampling)*100)\n",
        "print('Accuracy:-',metrics.accuracy_score(y_test,y_pred_oversampling)*100)\n",
        "metrics.confusion_matrix(y_test,y_pred_oversampling)"
      ],
      "execution_count": 0,
      "outputs": [
        {
          "output_type": "stream",
          "text": [
            "recall:- 20.0\n",
            "precision:- 18.181818181818183\n",
            "Accuracy:- 43.333333333333336\n"
          ],
          "name": "stdout"
        },
        {
          "output_type": "execute_result",
          "data": {
            "text/plain": [
              "array([[11,  9],\n",
              "       [ 8,  2]])"
            ]
          },
          "metadata": {
            "tags": []
          },
          "execution_count": 52
        }
      ]
    },
    {
      "cell_type": "code",
      "metadata": {
        "id": "43WlYNO2J7Nq",
        "colab_type": "code",
        "colab": {}
      },
      "source": [
        ""
      ],
      "execution_count": 0,
      "outputs": []
    },
    {
      "cell_type": "code",
      "metadata": {
        "id": "yerlXikLJ7aA",
        "colab_type": "code",
        "outputId": "3b0a9b51-19cc-4375-b728-fcae2a73d849",
        "colab": {
          "base_uri": "https://localhost:8080/",
          "height": 173
        }
      },
      "source": [
        "## lets try undersampling \n",
        "from imblearn.under_sampling import RandomUnderSampler\n",
        "x_train,x_test,y_train,y_test = train_test_split(x,y,test_size=0.10,random_state=20)\n",
        "underSample = RandomUnderSampler(sampling_strategy=\"majority\")\n",
        "x_train_undersampling, y_train_undersampling = underSample.fit_resample(x_train,y_train)\n",
        "print(x_train_undersampling.shape, y_train_undersampling.shape)\n",
        "model_undersampling = RandomForestClassifier()\n",
        "model_undersampling.fit(x_train_undersampling,y_train_undersampling)\n",
        "y_pred_undersampling = model_undersampling.predict(x_test)\n",
        "print('recall:-',metrics.recall_score(y_test,y_pred_undersampling)*100)\n",
        "print('precision:-',metrics.precision_score(y_test,y_pred_undersampling)*100)\n",
        "print('Accuracy:-',metrics.accuracy_score(y_test,y_pred_undersampling)*100)\n",
        "metrics.confusion_matrix(y_test,y_pred_undersampling)"
      ],
      "execution_count": 0,
      "outputs": [
        {
          "output_type": "stream",
          "text": [
            "(180, 47) (180,)\n",
            "recall:- 30.0\n",
            "precision:- 21.428571428571427\n",
            "Accuracy:- 40.0\n"
          ],
          "name": "stdout"
        },
        {
          "output_type": "stream",
          "text": [
            "/usr/local/lib/python3.6/dist-packages/sklearn/utils/deprecation.py:87: FutureWarning: Function safe_indexing is deprecated; safe_indexing is deprecated in version 0.22 and will be removed in version 0.24.\n",
            "  warnings.warn(msg, category=FutureWarning)\n"
          ],
          "name": "stderr"
        },
        {
          "output_type": "execute_result",
          "data": {
            "text/plain": [
              "array([[ 9, 11],\n",
              "       [ 7,  3]])"
            ]
          },
          "metadata": {
            "tags": []
          },
          "execution_count": 54
        }
      ]
    },
    {
      "cell_type": "code",
      "metadata": {
        "id": "Uf90ZhzlLEEW",
        "colab_type": "code",
        "colab": {}
      },
      "source": [
        "## as we see above our recall has doubled.. so if we are satisfied with increase in recall, because we woule like to report if \n",
        "## a person has progressed with more accuuracy.. that means we need more recalll score..TP/(TP_FN)"
      ],
      "execution_count": 0,
      "outputs": []
    },
    {
      "cell_type": "code",
      "metadata": {
        "id": "54jR2FN-LFpf",
        "colab_type": "code",
        "colab": {}
      },
      "source": [
        ""
      ],
      "execution_count": 0,
      "outputs": []
    },
    {
      "cell_type": "code",
      "metadata": {
        "id": "LFtmQxKTLF0n",
        "colab_type": "code",
        "outputId": "4b36ec9f-709a-4bbd-ba59-469060444e15",
        "colab": {
          "base_uri": "https://localhost:8080/",
          "height": 51
        }
      },
      "source": [
        "## lets use Grid search to optimize or tune RandomForest classifier parameteres.\n",
        "from sklearn.model_selection import GridSearchCV,train_test_split\n",
        "param_grid = {\n",
        "    \"n_estimators\" : list(range(100,1000,100)),\n",
        "    \"min_samples_leaf\" : list(range(1,10))\n",
        "}\n",
        "model_grid = RandomForestClassifier(random_state=10)\n",
        "grid = GridSearchCV(estimator=model_grid, param_grid=param_grid)\n",
        "grid.fit(x_train_undersampling,y_train_undersampling)\n",
        "print(grid.best_score_)\n",
        "print(grid.best_params_)"
      ],
      "execution_count": 0,
      "outputs": [
        {
          "output_type": "stream",
          "text": [
            "0.6444444444444445\n",
            "{'min_samples_leaf': 8, 'n_estimators': 100}\n"
          ],
          "name": "stdout"
        }
      ]
    },
    {
      "cell_type": "code",
      "metadata": {
        "id": "eB8J4eiqLL1j",
        "colab_type": "code",
        "outputId": "ffa4409c-492b-41a0-91d3-3c919dd5aa64",
        "colab": {
          "base_uri": "https://localhost:8080/",
          "height": 34
        }
      },
      "source": [
        ""
      ],
      "execution_count": 0,
      "outputs": [
        {
          "output_type": "execute_result",
          "data": {
            "text/plain": [
              "100"
            ]
          },
          "metadata": {
            "tags": []
          },
          "execution_count": 65
        }
      ]
    },
    {
      "cell_type": "code",
      "metadata": {
        "id": "hmPb3aRkLL6i",
        "colab_type": "code",
        "outputId": "7f3c68fa-0ccf-475a-e5d7-81d860a680bb",
        "colab": {
          "base_uri": "https://localhost:8080/",
          "height": 102
        }
      },
      "source": [
        "## grid search has not helped much recall is still 40%\n",
        "grid_model_with_best_params = RandomForestClassifier(n_estimators=grid.best_params_['n_estimators'],min_samples_leaf=grid.best_params_['min_samples_leaf']) \n",
        "grid_model_with_best_params.fit(x_train_undersampling,y_train_undersampling)\n",
        "y_pred_with_best_params = grid_model_with_best_params.predict(x_test)\n",
        "print('recall:-',metrics.recall_score(y_test,y_pred_with_best_params)*100)\n",
        "print('precision:-',metrics.precision_score(y_test,y_pred_with_best_params)*100)\n",
        "print('Accuracy:-',metrics.accuracy_score(y_test,y_pred_with_best_params)*100)\n",
        "metrics.confusion_matrix(y_test,y_pred_with_best_params)"
      ],
      "execution_count": 0,
      "outputs": [
        {
          "output_type": "stream",
          "text": [
            "recall:- 40.0\n",
            "precision:- 28.57142857142857\n",
            "Accuracy:- 46.666666666666664\n"
          ],
          "name": "stdout"
        },
        {
          "output_type": "execute_result",
          "data": {
            "text/plain": [
              "array([[10, 10],\n",
              "       [ 6,  4]])"
            ]
          },
          "metadata": {
            "tags": []
          },
          "execution_count": 66
        }
      ]
    }
  ]
}