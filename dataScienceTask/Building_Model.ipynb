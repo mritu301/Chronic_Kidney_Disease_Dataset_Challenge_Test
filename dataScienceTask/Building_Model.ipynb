{
 "cells": [
  {
   "cell_type": "markdown",
   "metadata": {},
   "source": [
    "# Now Building CKD model after spliting the data into training and test part \n",
    "### (We can split the data into training, test and validation part but the observation points is too small)"
   ]
  },
  {
   "cell_type": "markdown",
   "metadata": {},
   "source": [
    "\n",
    "### Load all the relavent libraries"
   ]
  },
  {
   "cell_type": "code",
   "execution_count": null,
   "metadata": {},
   "outputs": [],
   "source": [
    "import pandas as pd\n",
    "import numpy as np\n",
    "from sklearn.ensemble import RandomForestClassifier\n",
    "from sklearn.model_selection import train_test_split\n",
    "from sklearn.metrics import recall_score\n",
    "from imblearn.over_sampling import SMOTE"
   ]
  },
  {
   "cell_type": "code",
   "execution_count": 6,
   "metadata": {},
   "outputs": [
    {
     "name": "stdout",
     "output_type": "stream",
     "text": [
      "Collecting imblearn\n",
      "  Downloading https://files.pythonhosted.org/packages/81/a7/4179e6ebfd654bd0eac0b9c06125b8b4c96a9d0a8ff9e9507eb2a26d2d7e/imblearn-0.0-py2.py3-none-any.whl\n",
      "Collecting imbalanced-learn\n",
      "  Downloading https://files.pythonhosted.org/packages/c8/73/36a13185c2acff44d601dc6107b5347e075561a49e15ddd4e69988414c3e/imbalanced_learn-0.6.2-py3-none-any.whl (163kB)\n",
      "Requirement already satisfied: scikit-learn>=0.22 in a:\\anaconda3\\envs\\nlp_env\\lib\\site-packages (from imbalanced-learn->imblearn) (0.22.1)\n",
      "Requirement already satisfied: numpy>=1.11 in a:\\anaconda3\\envs\\nlp_env\\lib\\site-packages (from imbalanced-learn->imblearn) (1.18.1)\n",
      "Requirement already satisfied: scipy>=0.17 in a:\\anaconda3\\envs\\nlp_env\\lib\\site-packages (from imbalanced-learn->imblearn) (1.4.1)\n",
      "Requirement already satisfied: joblib>=0.11 in a:\\anaconda3\\envs\\nlp_env\\lib\\site-packages (from imbalanced-learn->imblearn) (0.14.1)\n",
      "Installing collected packages: imbalanced-learn, imblearn\n",
      "Successfully installed imbalanced-learn-0.6.2 imblearn-0.0\n"
     ]
    }
   ],
   "source": [
    "#! pip install imblearn"
   ]
  },
  {
   "cell_type": "markdown",
   "metadata": {},
   "source": [
    "### Load the Consolidated CKD Dataset for further processing"
   ]
  },
  {
   "cell_type": "code",
   "execution_count": 2,
   "metadata": {},
   "outputs": [],
   "source": [
    "CKD = pd.read_csv(\"consolidate_ckd.csv\")"
   ]
  },
  {
   "cell_type": "code",
   "execution_count": 3,
   "metadata": {},
   "outputs": [
    {
     "data": {
      "text/html": [
       "<div>\n",
       "<style scoped>\n",
       "    .dataframe tbody tr th:only-of-type {\n",
       "        vertical-align: middle;\n",
       "    }\n",
       "\n",
       "    .dataframe tbody tr th {\n",
       "        vertical-align: top;\n",
       "    }\n",
       "\n",
       "    .dataframe thead th {\n",
       "        text-align: right;\n",
       "    }\n",
       "</style>\n",
       "<table border=\"1\" class=\"dataframe\">\n",
       "  <thead>\n",
       "    <tr style=\"text-align: right;\">\n",
       "      <th></th>\n",
       "      <th>id</th>\n",
       "      <th>race</th>\n",
       "      <th>gender</th>\n",
       "      <th>age</th>\n",
       "      <th>creatinine_no_of_test</th>\n",
       "      <th>creatinine_mean_value</th>\n",
       "      <th>creatinine_duration_of_test</th>\n",
       "      <th>glucose_no_of_test</th>\n",
       "      <th>glucose_mean_value</th>\n",
       "      <th>glucose_duration_of_test</th>\n",
       "      <th>...</th>\n",
       "      <th>pitavastatin</th>\n",
       "      <th>pravastatin</th>\n",
       "      <th>propranolol</th>\n",
       "      <th>rosuvastatin</th>\n",
       "      <th>simvastatin</th>\n",
       "      <th>telmisartan</th>\n",
       "      <th>valsartan</th>\n",
       "      <th>total_no_of_days_with_drug</th>\n",
       "      <th>total_no_of_days_without_drug</th>\n",
       "      <th>Stage_Progress</th>\n",
       "    </tr>\n",
       "  </thead>\n",
       "  <tbody>\n",
       "    <tr>\n",
       "      <th>0</th>\n",
       "      <td>0</td>\n",
       "      <td>Unknown</td>\n",
       "      <td>Male</td>\n",
       "      <td>70</td>\n",
       "      <td>6</td>\n",
       "      <td>1.236667</td>\n",
       "      <td>2043</td>\n",
       "      <td>6</td>\n",
       "      <td>6.456667</td>\n",
       "      <td>2043</td>\n",
       "      <td>...</td>\n",
       "      <td>NaN</td>\n",
       "      <td>NaN</td>\n",
       "      <td>NaN</td>\n",
       "      <td>NaN</td>\n",
       "      <td>NaN</td>\n",
       "      <td>NaN</td>\n",
       "      <td>NaN</td>\n",
       "      <td>1290.0</td>\n",
       "      <td>328.0</td>\n",
       "      <td>True</td>\n",
       "    </tr>\n",
       "    <tr>\n",
       "      <th>1</th>\n",
       "      <td>1</td>\n",
       "      <td>White</td>\n",
       "      <td>Female</td>\n",
       "      <td>71</td>\n",
       "      <td>5</td>\n",
       "      <td>1.838000</td>\n",
       "      <td>1214</td>\n",
       "      <td>5</td>\n",
       "      <td>9.240000</td>\n",
       "      <td>1602</td>\n",
       "      <td>...</td>\n",
       "      <td>NaN</td>\n",
       "      <td>NaN</td>\n",
       "      <td>NaN</td>\n",
       "      <td>NaN</td>\n",
       "      <td>NaN</td>\n",
       "      <td>NaN</td>\n",
       "      <td>NaN</td>\n",
       "      <td>300.0</td>\n",
       "      <td>221.0</td>\n",
       "      <td>False</td>\n",
       "    </tr>\n",
       "    <tr>\n",
       "      <th>2</th>\n",
       "      <td>2</td>\n",
       "      <td>White</td>\n",
       "      <td>Female</td>\n",
       "      <td>57</td>\n",
       "      <td>5</td>\n",
       "      <td>2.170000</td>\n",
       "      <td>1737</td>\n",
       "      <td>3</td>\n",
       "      <td>6.466667</td>\n",
       "      <td>804</td>\n",
       "      <td>...</td>\n",
       "      <td>NaN</td>\n",
       "      <td>NaN</td>\n",
       "      <td>NaN</td>\n",
       "      <td>180.0</td>\n",
       "      <td>NaN</td>\n",
       "      <td>NaN</td>\n",
       "      <td>NaN</td>\n",
       "      <td>180.0</td>\n",
       "      <td>487.0</td>\n",
       "      <td>True</td>\n",
       "    </tr>\n",
       "    <tr>\n",
       "      <th>3</th>\n",
       "      <td>3</td>\n",
       "      <td>White</td>\n",
       "      <td>Male</td>\n",
       "      <td>74</td>\n",
       "      <td>5</td>\n",
       "      <td>0.996000</td>\n",
       "      <td>1800</td>\n",
       "      <td>6</td>\n",
       "      <td>6.525000</td>\n",
       "      <td>2475</td>\n",
       "      <td>...</td>\n",
       "      <td>NaN</td>\n",
       "      <td>NaN</td>\n",
       "      <td>NaN</td>\n",
       "      <td>NaN</td>\n",
       "      <td>NaN</td>\n",
       "      <td>NaN</td>\n",
       "      <td>NaN</td>\n",
       "      <td>360.0</td>\n",
       "      <td>301.0</td>\n",
       "      <td>False</td>\n",
       "    </tr>\n",
       "    <tr>\n",
       "      <th>4</th>\n",
       "      <td>4</td>\n",
       "      <td>White</td>\n",
       "      <td>Female</td>\n",
       "      <td>50</td>\n",
       "      <td>6</td>\n",
       "      <td>1.150000</td>\n",
       "      <td>2120</td>\n",
       "      <td>7</td>\n",
       "      <td>9.720000</td>\n",
       "      <td>1974</td>\n",
       "      <td>...</td>\n",
       "      <td>NaN</td>\n",
       "      <td>720.0</td>\n",
       "      <td>NaN</td>\n",
       "      <td>NaN</td>\n",
       "      <td>NaN</td>\n",
       "      <td>NaN</td>\n",
       "      <td>NaN</td>\n",
       "      <td>1620.0</td>\n",
       "      <td>481.0</td>\n",
       "      <td>True</td>\n",
       "    </tr>\n",
       "  </tbody>\n",
       "</table>\n",
       "<p>5 rows × 46 columns</p>\n",
       "</div>"
      ],
      "text/plain": [
       "   id     race  gender  age  creatinine_no_of_test  creatinine_mean_value  \\\n",
       "0   0  Unknown    Male   70                      6               1.236667   \n",
       "1   1    White  Female   71                      5               1.838000   \n",
       "2   2    White  Female   57                      5               2.170000   \n",
       "3   3    White    Male   74                      5               0.996000   \n",
       "4   4    White  Female   50                      6               1.150000   \n",
       "\n",
       "   creatinine_duration_of_test  glucose_no_of_test  glucose_mean_value  \\\n",
       "0                         2043                   6            6.456667   \n",
       "1                         1214                   5            9.240000   \n",
       "2                         1737                   3            6.466667   \n",
       "3                         1800                   6            6.525000   \n",
       "4                         2120                   7            9.720000   \n",
       "\n",
       "   glucose_duration_of_test  ...  pitavastatin  pravastatin  propranolol  \\\n",
       "0                      2043  ...           NaN          NaN          NaN   \n",
       "1                      1602  ...           NaN          NaN          NaN   \n",
       "2                       804  ...           NaN          NaN          NaN   \n",
       "3                      2475  ...           NaN          NaN          NaN   \n",
       "4                      1974  ...           NaN        720.0          NaN   \n",
       "\n",
       "   rosuvastatin  simvastatin  telmisartan  valsartan  \\\n",
       "0           NaN          NaN          NaN        NaN   \n",
       "1           NaN          NaN          NaN        NaN   \n",
       "2         180.0          NaN          NaN        NaN   \n",
       "3           NaN          NaN          NaN        NaN   \n",
       "4           NaN          NaN          NaN        NaN   \n",
       "\n",
       "   total_no_of_days_with_drug  total_no_of_days_without_drug  Stage_Progress  \n",
       "0                      1290.0                          328.0            True  \n",
       "1                       300.0                          221.0           False  \n",
       "2                       180.0                          487.0            True  \n",
       "3                       360.0                          301.0           False  \n",
       "4                      1620.0                          481.0            True  \n",
       "\n",
       "[5 rows x 46 columns]"
      ]
     },
     "execution_count": 3,
     "metadata": {},
     "output_type": "execute_result"
    }
   ],
   "source": [
    "CKD.head()"
   ]
  },
  {
   "cell_type": "code",
   "execution_count": 5,
   "metadata": {},
   "outputs": [
    {
     "data": {
      "text/plain": [
       "False    200\n",
       "True     100\n",
       "Name: Stage_Progress, dtype: int64"
      ]
     },
     "execution_count": 5,
     "metadata": {},
     "output_type": "execute_result"
    }
   ],
   "source": [
    "CKD.Stage_Progress.value_counts()"
   ]
  },
  {
   "cell_type": "code",
   "execution_count": 1,
   "metadata": {},
   "outputs": [
    {
     "ename": "NameError",
     "evalue": "name 'CKD' is not defined",
     "output_type": "error",
     "traceback": [
      "\u001b[1;31m---------------------------------------------------------------------------\u001b[0m",
      "\u001b[1;31mNameError\u001b[0m                                 Traceback (most recent call last)",
      "\u001b[1;32m<ipython-input-1-7d580830bb5d>\u001b[0m in \u001b[0;36m<module>\u001b[1;34m\u001b[0m\n\u001b[1;32m----> 1\u001b[1;33m \u001b[0mCKD\u001b[0m\u001b[1;33m.\u001b[0m\u001b[0mfillna\u001b[0m\u001b[1;33m(\u001b[0m\u001b[1;36m0\u001b[0m\u001b[1;33m)\u001b[0m\u001b[1;33m\u001b[0m\u001b[1;33m\u001b[0m\u001b[0m\n\u001b[0m",
      "\u001b[1;31mNameError\u001b[0m: name 'CKD' is not defined"
     ]
    }
   ],
   "source": [
    "CKD.fillna(0)"
   ]
  },
  {
   "cell_type": "code",
   "execution_count": null,
   "metadata": {},
   "outputs": [],
   "source": []
  }
 ],
 "metadata": {
  "kernelspec": {
   "display_name": "Python 3",
   "language": "python",
   "name": "python3"
  },
  "language_info": {
   "codemirror_mode": {
    "name": "ipython",
    "version": 3
   },
   "file_extension": ".py",
   "mimetype": "text/x-python",
   "name": "python",
   "nbconvert_exporter": "python",
   "pygments_lexer": "ipython3",
   "version": "3.6.10"
  }
 },
 "nbformat": 4,
 "nbformat_minor": 2
}
