{
 "cells": [
  {
   "cell_type": "markdown",
   "metadata": {
    "colab_type": "text",
    "id": "5wjzxxDWCV8u"
   },
   "source": [
    "# Now Building CKD model after spliting the data into training and testing part \n",
    "### (We can split the data into training, testing and validation part but the observation points is too small)"
   ]
  },
  {
   "cell_type": "code",
   "execution_count": 3,
   "metadata": {
    "colab": {
     "base_uri": "https://localhost:8080/",
     "height": 54
    },
    "colab_type": "code",
    "id": "5rnb_ppRCugR",
    "outputId": "aa062660-607c-4f65-a27b-86dfd0e4bc7a"
   },
   "outputs": [
    {
     "name": "stdout",
     "output_type": "stream",
     "text": [
      "Drive already mounted at /content/drive; to attempt to forcibly remount, call drive.mount(\"/content/drive\", force_remount=True).\n"
     ]
    }
   ],
   "source": [
    "from google.colab import drive\n",
    "drive.mount('/content/drive')"
   ]
  },
  {
   "cell_type": "markdown",
   "metadata": {
    "colab_type": "text",
    "id": "ogxlZrVSCV82"
   },
   "source": [
    "\n",
    "### Load all the relavent libraries"
   ]
  },
  {
   "cell_type": "code",
   "execution_count": 0,
   "metadata": {
    "colab": {},
    "colab_type": "code",
    "id": "pOQWV1ULCV85"
   },
   "outputs": [],
   "source": [
    "import pandas as pd\n",
    "import numpy as np\n",
    "from sklearn.linear_model import LogisticRegression\n",
    "from imblearn.under_sampling import RandomUnderSampler\n",
    "from sklearn.model_selection import train_test_split\n",
    "from sklearn.model_selection import GridSearchCV,train_test_split\n",
    "from sklearn.metrics import recall_score\n",
    "from imblearn.over_sampling import SMOTE\n",
    "from sklearn import metrics\n",
    "\n",
    "import matplotlib.pyplot as plt\n",
    "import seaborn as sns\n",
    "%matplotlib inline"
   ]
  },
  {
   "cell_type": "code",
   "execution_count": 0,
   "metadata": {
    "colab": {},
    "colab_type": "code",
    "id": "DJn04O5RCV9F"
   },
   "outputs": [],
   "source": [
    "#! pip install imblearn"
   ]
  },
  {
   "cell_type": "markdown",
   "metadata": {
    "colab_type": "text",
    "id": "8CuC0RsUCV9R"
   },
   "source": [
    "### Load the Consolidated CKD Dataset for further processing"
   ]
  },
  {
   "cell_type": "code",
   "execution_count": 0,
   "metadata": {
    "colab": {},
    "colab_type": "code",
    "id": "Hwd1BPH4CV9T"
   },
   "outputs": [],
   "source": [
    "CKD = pd.read_csv(\"/content/consolidate_ckd.csv\")"
   ]
  },
  {
   "cell_type": "code",
   "execution_count": 41,
   "metadata": {
    "colab": {
     "base_uri": "https://localhost:8080/",
     "height": 224
    },
    "colab_type": "code",
    "id": "MFvVgWltCV9c",
    "outputId": "67c3a896-8da1-4a0a-9a7a-2cd6c329a411"
   },
   "outputs": [
    {
     "data": {
      "text/html": [
       "<div>\n",
       "<style scoped>\n",
       "    .dataframe tbody tr th:only-of-type {\n",
       "        vertical-align: middle;\n",
       "    }\n",
       "\n",
       "    .dataframe tbody tr th {\n",
       "        vertical-align: top;\n",
       "    }\n",
       "\n",
       "    .dataframe thead th {\n",
       "        text-align: right;\n",
       "    }\n",
       "</style>\n",
       "<table border=\"1\" class=\"dataframe\">\n",
       "  <thead>\n",
       "    <tr style=\"text-align: right;\">\n",
       "      <th></th>\n",
       "      <th>id</th>\n",
       "      <th>race</th>\n",
       "      <th>gender</th>\n",
       "      <th>age</th>\n",
       "      <th>creatinine_no_of_test</th>\n",
       "      <th>creatinine_mean_value</th>\n",
       "      <th>creatinine_duration_of_test</th>\n",
       "      <th>glucose_no_of_test</th>\n",
       "      <th>glucose_mean_value</th>\n",
       "      <th>glucose_duration_of_test</th>\n",
       "      <th>HGB_no_of_test</th>\n",
       "      <th>HGB_mean_value</th>\n",
       "      <th>HGB_duration_of_test</th>\n",
       "      <th>ldl_no_of_test</th>\n",
       "      <th>ldl_mean_value</th>\n",
       "      <th>ldl_duration_of_test</th>\n",
       "      <th>SBP_no_of_test</th>\n",
       "      <th>SBP_mean_value</th>\n",
       "      <th>SBP_duration_of_test</th>\n",
       "      <th>DBP_no_of_test</th>\n",
       "      <th>DBP_mean_value</th>\n",
       "      <th>DBP_duration_of_test</th>\n",
       "      <th>atenolol</th>\n",
       "      <th>atorvastatin</th>\n",
       "      <th>bisoprolol</th>\n",
       "      <th>canagliflozin</th>\n",
       "      <th>carvedilol</th>\n",
       "      <th>dapagliflozin</th>\n",
       "      <th>irbesartan</th>\n",
       "      <th>labetalol</th>\n",
       "      <th>losartan</th>\n",
       "      <th>lovastatin</th>\n",
       "      <th>metformin</th>\n",
       "      <th>metoprolol</th>\n",
       "      <th>nebivolol</th>\n",
       "      <th>olmesartan</th>\n",
       "      <th>pitavastatin</th>\n",
       "      <th>pravastatin</th>\n",
       "      <th>propranolol</th>\n",
       "      <th>rosuvastatin</th>\n",
       "      <th>simvastatin</th>\n",
       "      <th>telmisartan</th>\n",
       "      <th>valsartan</th>\n",
       "      <th>total_no_of_days_with_drug</th>\n",
       "      <th>total_no_of_days_without_drug</th>\n",
       "      <th>Stage_Progress</th>\n",
       "    </tr>\n",
       "  </thead>\n",
       "  <tbody>\n",
       "    <tr>\n",
       "      <th>0</th>\n",
       "      <td>0</td>\n",
       "      <td>Unknown</td>\n",
       "      <td>Male</td>\n",
       "      <td>70</td>\n",
       "      <td>6</td>\n",
       "      <td>1.236667</td>\n",
       "      <td>2043</td>\n",
       "      <td>6</td>\n",
       "      <td>6.456667</td>\n",
       "      <td>2043</td>\n",
       "      <td>9</td>\n",
       "      <td>13.262222</td>\n",
       "      <td>5405</td>\n",
       "      <td>3</td>\n",
       "      <td>143.593333</td>\n",
       "      <td>489</td>\n",
       "      <td>8</td>\n",
       "      <td>139.610000</td>\n",
       "      <td>3169</td>\n",
       "      <td>8</td>\n",
       "      <td>83.173750</td>\n",
       "      <td>3169</td>\n",
       "      <td>NaN</td>\n",
       "      <td>180.0</td>\n",
       "      <td>NaN</td>\n",
       "      <td>NaN</td>\n",
       "      <td>NaN</td>\n",
       "      <td>NaN</td>\n",
       "      <td>NaN</td>\n",
       "      <td>NaN</td>\n",
       "      <td>450.0</td>\n",
       "      <td>NaN</td>\n",
       "      <td>660.0</td>\n",
       "      <td>NaN</td>\n",
       "      <td>NaN</td>\n",
       "      <td>NaN</td>\n",
       "      <td>NaN</td>\n",
       "      <td>NaN</td>\n",
       "      <td>NaN</td>\n",
       "      <td>NaN</td>\n",
       "      <td>NaN</td>\n",
       "      <td>NaN</td>\n",
       "      <td>NaN</td>\n",
       "      <td>1290.0</td>\n",
       "      <td>328.0</td>\n",
       "      <td>True</td>\n",
       "    </tr>\n",
       "    <tr>\n",
       "      <th>1</th>\n",
       "      <td>1</td>\n",
       "      <td>White</td>\n",
       "      <td>Female</td>\n",
       "      <td>71</td>\n",
       "      <td>5</td>\n",
       "      <td>1.838000</td>\n",
       "      <td>1214</td>\n",
       "      <td>5</td>\n",
       "      <td>9.240000</td>\n",
       "      <td>1602</td>\n",
       "      <td>7</td>\n",
       "      <td>13.662857</td>\n",
       "      <td>4777</td>\n",
       "      <td>5</td>\n",
       "      <td>82.424000</td>\n",
       "      <td>1602</td>\n",
       "      <td>7</td>\n",
       "      <td>150.232857</td>\n",
       "      <td>2454</td>\n",
       "      <td>7</td>\n",
       "      <td>80.455714</td>\n",
       "      <td>2454</td>\n",
       "      <td>NaN</td>\n",
       "      <td>300.0</td>\n",
       "      <td>NaN</td>\n",
       "      <td>NaN</td>\n",
       "      <td>NaN</td>\n",
       "      <td>NaN</td>\n",
       "      <td>NaN</td>\n",
       "      <td>NaN</td>\n",
       "      <td>NaN</td>\n",
       "      <td>NaN</td>\n",
       "      <td>NaN</td>\n",
       "      <td>NaN</td>\n",
       "      <td>NaN</td>\n",
       "      <td>NaN</td>\n",
       "      <td>NaN</td>\n",
       "      <td>NaN</td>\n",
       "      <td>NaN</td>\n",
       "      <td>NaN</td>\n",
       "      <td>NaN</td>\n",
       "      <td>NaN</td>\n",
       "      <td>NaN</td>\n",
       "      <td>300.0</td>\n",
       "      <td>221.0</td>\n",
       "      <td>False</td>\n",
       "    </tr>\n",
       "    <tr>\n",
       "      <th>2</th>\n",
       "      <td>2</td>\n",
       "      <td>White</td>\n",
       "      <td>Female</td>\n",
       "      <td>57</td>\n",
       "      <td>5</td>\n",
       "      <td>2.170000</td>\n",
       "      <td>1737</td>\n",
       "      <td>3</td>\n",
       "      <td>6.466667</td>\n",
       "      <td>804</td>\n",
       "      <td>8</td>\n",
       "      <td>15.700000</td>\n",
       "      <td>4500</td>\n",
       "      <td>3</td>\n",
       "      <td>75.283333</td>\n",
       "      <td>681</td>\n",
       "      <td>4</td>\n",
       "      <td>140.210000</td>\n",
       "      <td>1242</td>\n",
       "      <td>4</td>\n",
       "      <td>89.217500</td>\n",
       "      <td>1242</td>\n",
       "      <td>NaN</td>\n",
       "      <td>NaN</td>\n",
       "      <td>NaN</td>\n",
       "      <td>NaN</td>\n",
       "      <td>NaN</td>\n",
       "      <td>NaN</td>\n",
       "      <td>NaN</td>\n",
       "      <td>NaN</td>\n",
       "      <td>NaN</td>\n",
       "      <td>NaN</td>\n",
       "      <td>NaN</td>\n",
       "      <td>NaN</td>\n",
       "      <td>NaN</td>\n",
       "      <td>NaN</td>\n",
       "      <td>NaN</td>\n",
       "      <td>NaN</td>\n",
       "      <td>NaN</td>\n",
       "      <td>180.0</td>\n",
       "      <td>NaN</td>\n",
       "      <td>NaN</td>\n",
       "      <td>NaN</td>\n",
       "      <td>180.0</td>\n",
       "      <td>487.0</td>\n",
       "      <td>True</td>\n",
       "    </tr>\n",
       "    <tr>\n",
       "      <th>3</th>\n",
       "      <td>3</td>\n",
       "      <td>White</td>\n",
       "      <td>Male</td>\n",
       "      <td>74</td>\n",
       "      <td>5</td>\n",
       "      <td>0.996000</td>\n",
       "      <td>1800</td>\n",
       "      <td>6</td>\n",
       "      <td>6.525000</td>\n",
       "      <td>2475</td>\n",
       "      <td>10</td>\n",
       "      <td>13.198000</td>\n",
       "      <td>7395</td>\n",
       "      <td>5</td>\n",
       "      <td>98.246000</td>\n",
       "      <td>1670</td>\n",
       "      <td>7</td>\n",
       "      <td>139.588571</td>\n",
       "      <td>2963</td>\n",
       "      <td>7</td>\n",
       "      <td>74.857143</td>\n",
       "      <td>2963</td>\n",
       "      <td>NaN</td>\n",
       "      <td>360.0</td>\n",
       "      <td>NaN</td>\n",
       "      <td>NaN</td>\n",
       "      <td>NaN</td>\n",
       "      <td>NaN</td>\n",
       "      <td>NaN</td>\n",
       "      <td>NaN</td>\n",
       "      <td>NaN</td>\n",
       "      <td>NaN</td>\n",
       "      <td>NaN</td>\n",
       "      <td>NaN</td>\n",
       "      <td>NaN</td>\n",
       "      <td>NaN</td>\n",
       "      <td>NaN</td>\n",
       "      <td>NaN</td>\n",
       "      <td>NaN</td>\n",
       "      <td>NaN</td>\n",
       "      <td>NaN</td>\n",
       "      <td>NaN</td>\n",
       "      <td>NaN</td>\n",
       "      <td>360.0</td>\n",
       "      <td>301.0</td>\n",
       "      <td>False</td>\n",
       "    </tr>\n",
       "    <tr>\n",
       "      <th>4</th>\n",
       "      <td>4</td>\n",
       "      <td>White</td>\n",
       "      <td>Female</td>\n",
       "      <td>50</td>\n",
       "      <td>6</td>\n",
       "      <td>1.150000</td>\n",
       "      <td>2120</td>\n",
       "      <td>7</td>\n",
       "      <td>9.720000</td>\n",
       "      <td>1974</td>\n",
       "      <td>5</td>\n",
       "      <td>12.658000</td>\n",
       "      <td>2990</td>\n",
       "      <td>4</td>\n",
       "      <td>65.907500</td>\n",
       "      <td>1016</td>\n",
       "      <td>7</td>\n",
       "      <td>160.667143</td>\n",
       "      <td>2445</td>\n",
       "      <td>7</td>\n",
       "      <td>97.385714</td>\n",
       "      <td>2445</td>\n",
       "      <td>NaN</td>\n",
       "      <td>NaN</td>\n",
       "      <td>NaN</td>\n",
       "      <td>NaN</td>\n",
       "      <td>NaN</td>\n",
       "      <td>NaN</td>\n",
       "      <td>NaN</td>\n",
       "      <td>NaN</td>\n",
       "      <td>360.0</td>\n",
       "      <td>NaN</td>\n",
       "      <td>540.0</td>\n",
       "      <td>NaN</td>\n",
       "      <td>NaN</td>\n",
       "      <td>NaN</td>\n",
       "      <td>NaN</td>\n",
       "      <td>720.0</td>\n",
       "      <td>NaN</td>\n",
       "      <td>NaN</td>\n",
       "      <td>NaN</td>\n",
       "      <td>NaN</td>\n",
       "      <td>NaN</td>\n",
       "      <td>1620.0</td>\n",
       "      <td>481.0</td>\n",
       "      <td>True</td>\n",
       "    </tr>\n",
       "  </tbody>\n",
       "</table>\n",
       "</div>"
      ],
      "text/plain": [
       "   id     race  ... total_no_of_days_without_drug  Stage_Progress\n",
       "0   0  Unknown  ...                         328.0            True\n",
       "1   1    White  ...                         221.0           False\n",
       "2   2    White  ...                         487.0            True\n",
       "3   3    White  ...                         301.0           False\n",
       "4   4    White  ...                         481.0            True\n",
       "\n",
       "[5 rows x 46 columns]"
      ]
     },
     "execution_count": 41,
     "metadata": {
      "tags": []
     },
     "output_type": "execute_result"
    }
   ],
   "source": [
    "CKD.head()"
   ]
  },
  {
   "cell_type": "code",
   "execution_count": 42,
   "metadata": {
    "colab": {
     "base_uri": "https://localhost:8080/",
     "height": 68
    },
    "colab_type": "code",
    "id": "Ot7hcJ12CV9l",
    "outputId": "e3039cfc-07dd-4622-ab9d-7149572d82c7"
   },
   "outputs": [
    {
     "data": {
      "text/plain": [
       "False    200\n",
       "True     100\n",
       "Name: Stage_Progress, dtype: int64"
      ]
     },
     "execution_count": 42,
     "metadata": {
      "tags": []
     },
     "output_type": "execute_result"
    }
   ],
   "source": [
    "CKD.Stage_Progress.value_counts()"
   ]
  },
  {
   "cell_type": "markdown",
   "metadata": {
    "colab": {},
    "colab_type": "code",
    "id": "g6INd8d0Emlh"
   },
   "source": [
    "### Here, We can see CKD Stage progress rate for success = 33.3 %\n",
    "###                     Stage progress rate for failure = 66.7 %"
   ]
  },
  {
   "cell_type": "code",
   "execution_count": 44,
   "metadata": {
    "colab": {
     "base_uri": "https://localhost:8080/",
     "height": 34
    },
    "colab_type": "code",
    "id": "VWq-uL3TCV96",
    "outputId": "c543d754-ba27-40cd-a1b9-fe067707f030"
   },
   "outputs": [
    {
     "data": {
      "text/plain": [
       "(300, 45)"
      ]
     },
     "execution_count": 44,
     "metadata": {
      "tags": []
     },
     "output_type": "execute_result"
    }
   ],
   "source": [
    "CKD = CKD[[col for col in CKD.columns if col!='id']] ## removing id columns as it is unique val to identify\n",
    "CKD.shape\n"
   ]
  },
  {
   "cell_type": "markdown",
   "metadata": {
    "colab": {},
    "colab_type": "code",
    "id": "u-6CpibvElyq"
   },
   "source": [
    "### Create Dummies for Categorical Columns : Race and Gender"
   ]
  },
  {
   "cell_type": "code",
   "execution_count": 45,
   "metadata": {
    "colab": {
     "base_uri": "https://localhost:8080/",
     "height": 34
    },
    "colab_type": "code",
    "id": "cercRDxMEVDk",
    "outputId": "e267e278-59bb-4bae-cf8b-2ab0bd62e90a"
   },
   "outputs": [
    {
     "data": {
      "text/plain": [
       "(300, 48)"
      ]
     },
     "execution_count": 45,
     "metadata": {
      "tags": []
     },
     "output_type": "execute_result"
    }
   ],
   "source": [
    "CKD_dummies = pd.get_dummies(data=CKD, columns=['race','gender'],drop_first=True)\n",
    "CKD_dummies.shape"
   ]
  },
  {
   "cell_type": "code",
   "execution_count": 46,
   "metadata": {
    "colab": {
     "base_uri": "https://localhost:8080/",
     "height": 224
    },
    "colab_type": "code",
    "id": "79xxECkiE0au",
    "outputId": "f1f364a7-0af0-4e41-bf40-17471e6fa86c"
   },
   "outputs": [
    {
     "data": {
      "text/html": [
       "<div>\n",
       "<style scoped>\n",
       "    .dataframe tbody tr th:only-of-type {\n",
       "        vertical-align: middle;\n",
       "    }\n",
       "\n",
       "    .dataframe tbody tr th {\n",
       "        vertical-align: top;\n",
       "    }\n",
       "\n",
       "    .dataframe thead th {\n",
       "        text-align: right;\n",
       "    }\n",
       "</style>\n",
       "<table border=\"1\" class=\"dataframe\">\n",
       "  <thead>\n",
       "    <tr style=\"text-align: right;\">\n",
       "      <th></th>\n",
       "      <th>age</th>\n",
       "      <th>creatinine_no_of_test</th>\n",
       "      <th>creatinine_mean_value</th>\n",
       "      <th>creatinine_duration_of_test</th>\n",
       "      <th>glucose_no_of_test</th>\n",
       "      <th>glucose_mean_value</th>\n",
       "      <th>glucose_duration_of_test</th>\n",
       "      <th>HGB_no_of_test</th>\n",
       "      <th>HGB_mean_value</th>\n",
       "      <th>HGB_duration_of_test</th>\n",
       "      <th>ldl_no_of_test</th>\n",
       "      <th>ldl_mean_value</th>\n",
       "      <th>ldl_duration_of_test</th>\n",
       "      <th>SBP_no_of_test</th>\n",
       "      <th>SBP_mean_value</th>\n",
       "      <th>SBP_duration_of_test</th>\n",
       "      <th>DBP_no_of_test</th>\n",
       "      <th>DBP_mean_value</th>\n",
       "      <th>DBP_duration_of_test</th>\n",
       "      <th>atenolol</th>\n",
       "      <th>atorvastatin</th>\n",
       "      <th>bisoprolol</th>\n",
       "      <th>canagliflozin</th>\n",
       "      <th>carvedilol</th>\n",
       "      <th>dapagliflozin</th>\n",
       "      <th>irbesartan</th>\n",
       "      <th>labetalol</th>\n",
       "      <th>losartan</th>\n",
       "      <th>lovastatin</th>\n",
       "      <th>metformin</th>\n",
       "      <th>metoprolol</th>\n",
       "      <th>nebivolol</th>\n",
       "      <th>olmesartan</th>\n",
       "      <th>pitavastatin</th>\n",
       "      <th>pravastatin</th>\n",
       "      <th>propranolol</th>\n",
       "      <th>rosuvastatin</th>\n",
       "      <th>simvastatin</th>\n",
       "      <th>telmisartan</th>\n",
       "      <th>valsartan</th>\n",
       "      <th>total_no_of_days_with_drug</th>\n",
       "      <th>total_no_of_days_without_drug</th>\n",
       "      <th>Stage_Progress</th>\n",
       "      <th>race_Black</th>\n",
       "      <th>race_Hispanic</th>\n",
       "      <th>race_Unknown</th>\n",
       "      <th>race_White</th>\n",
       "      <th>gender_Male</th>\n",
       "    </tr>\n",
       "  </thead>\n",
       "  <tbody>\n",
       "    <tr>\n",
       "      <th>0</th>\n",
       "      <td>70</td>\n",
       "      <td>6</td>\n",
       "      <td>1.236667</td>\n",
       "      <td>2043</td>\n",
       "      <td>6</td>\n",
       "      <td>6.456667</td>\n",
       "      <td>2043</td>\n",
       "      <td>9</td>\n",
       "      <td>13.262222</td>\n",
       "      <td>5405</td>\n",
       "      <td>3</td>\n",
       "      <td>143.593333</td>\n",
       "      <td>489</td>\n",
       "      <td>8</td>\n",
       "      <td>139.610000</td>\n",
       "      <td>3169</td>\n",
       "      <td>8</td>\n",
       "      <td>83.173750</td>\n",
       "      <td>3169</td>\n",
       "      <td>NaN</td>\n",
       "      <td>180.0</td>\n",
       "      <td>NaN</td>\n",
       "      <td>NaN</td>\n",
       "      <td>NaN</td>\n",
       "      <td>NaN</td>\n",
       "      <td>NaN</td>\n",
       "      <td>NaN</td>\n",
       "      <td>450.0</td>\n",
       "      <td>NaN</td>\n",
       "      <td>660.0</td>\n",
       "      <td>NaN</td>\n",
       "      <td>NaN</td>\n",
       "      <td>NaN</td>\n",
       "      <td>NaN</td>\n",
       "      <td>NaN</td>\n",
       "      <td>NaN</td>\n",
       "      <td>NaN</td>\n",
       "      <td>NaN</td>\n",
       "      <td>NaN</td>\n",
       "      <td>NaN</td>\n",
       "      <td>1290.0</td>\n",
       "      <td>328.0</td>\n",
       "      <td>True</td>\n",
       "      <td>0</td>\n",
       "      <td>0</td>\n",
       "      <td>1</td>\n",
       "      <td>0</td>\n",
       "      <td>1</td>\n",
       "    </tr>\n",
       "    <tr>\n",
       "      <th>1</th>\n",
       "      <td>71</td>\n",
       "      <td>5</td>\n",
       "      <td>1.838000</td>\n",
       "      <td>1214</td>\n",
       "      <td>5</td>\n",
       "      <td>9.240000</td>\n",
       "      <td>1602</td>\n",
       "      <td>7</td>\n",
       "      <td>13.662857</td>\n",
       "      <td>4777</td>\n",
       "      <td>5</td>\n",
       "      <td>82.424000</td>\n",
       "      <td>1602</td>\n",
       "      <td>7</td>\n",
       "      <td>150.232857</td>\n",
       "      <td>2454</td>\n",
       "      <td>7</td>\n",
       "      <td>80.455714</td>\n",
       "      <td>2454</td>\n",
       "      <td>NaN</td>\n",
       "      <td>300.0</td>\n",
       "      <td>NaN</td>\n",
       "      <td>NaN</td>\n",
       "      <td>NaN</td>\n",
       "      <td>NaN</td>\n",
       "      <td>NaN</td>\n",
       "      <td>NaN</td>\n",
       "      <td>NaN</td>\n",
       "      <td>NaN</td>\n",
       "      <td>NaN</td>\n",
       "      <td>NaN</td>\n",
       "      <td>NaN</td>\n",
       "      <td>NaN</td>\n",
       "      <td>NaN</td>\n",
       "      <td>NaN</td>\n",
       "      <td>NaN</td>\n",
       "      <td>NaN</td>\n",
       "      <td>NaN</td>\n",
       "      <td>NaN</td>\n",
       "      <td>NaN</td>\n",
       "      <td>300.0</td>\n",
       "      <td>221.0</td>\n",
       "      <td>False</td>\n",
       "      <td>0</td>\n",
       "      <td>0</td>\n",
       "      <td>0</td>\n",
       "      <td>1</td>\n",
       "      <td>0</td>\n",
       "    </tr>\n",
       "    <tr>\n",
       "      <th>2</th>\n",
       "      <td>57</td>\n",
       "      <td>5</td>\n",
       "      <td>2.170000</td>\n",
       "      <td>1737</td>\n",
       "      <td>3</td>\n",
       "      <td>6.466667</td>\n",
       "      <td>804</td>\n",
       "      <td>8</td>\n",
       "      <td>15.700000</td>\n",
       "      <td>4500</td>\n",
       "      <td>3</td>\n",
       "      <td>75.283333</td>\n",
       "      <td>681</td>\n",
       "      <td>4</td>\n",
       "      <td>140.210000</td>\n",
       "      <td>1242</td>\n",
       "      <td>4</td>\n",
       "      <td>89.217500</td>\n",
       "      <td>1242</td>\n",
       "      <td>NaN</td>\n",
       "      <td>NaN</td>\n",
       "      <td>NaN</td>\n",
       "      <td>NaN</td>\n",
       "      <td>NaN</td>\n",
       "      <td>NaN</td>\n",
       "      <td>NaN</td>\n",
       "      <td>NaN</td>\n",
       "      <td>NaN</td>\n",
       "      <td>NaN</td>\n",
       "      <td>NaN</td>\n",
       "      <td>NaN</td>\n",
       "      <td>NaN</td>\n",
       "      <td>NaN</td>\n",
       "      <td>NaN</td>\n",
       "      <td>NaN</td>\n",
       "      <td>NaN</td>\n",
       "      <td>180.0</td>\n",
       "      <td>NaN</td>\n",
       "      <td>NaN</td>\n",
       "      <td>NaN</td>\n",
       "      <td>180.0</td>\n",
       "      <td>487.0</td>\n",
       "      <td>True</td>\n",
       "      <td>0</td>\n",
       "      <td>0</td>\n",
       "      <td>0</td>\n",
       "      <td>1</td>\n",
       "      <td>0</td>\n",
       "    </tr>\n",
       "    <tr>\n",
       "      <th>3</th>\n",
       "      <td>74</td>\n",
       "      <td>5</td>\n",
       "      <td>0.996000</td>\n",
       "      <td>1800</td>\n",
       "      <td>6</td>\n",
       "      <td>6.525000</td>\n",
       "      <td>2475</td>\n",
       "      <td>10</td>\n",
       "      <td>13.198000</td>\n",
       "      <td>7395</td>\n",
       "      <td>5</td>\n",
       "      <td>98.246000</td>\n",
       "      <td>1670</td>\n",
       "      <td>7</td>\n",
       "      <td>139.588571</td>\n",
       "      <td>2963</td>\n",
       "      <td>7</td>\n",
       "      <td>74.857143</td>\n",
       "      <td>2963</td>\n",
       "      <td>NaN</td>\n",
       "      <td>360.0</td>\n",
       "      <td>NaN</td>\n",
       "      <td>NaN</td>\n",
       "      <td>NaN</td>\n",
       "      <td>NaN</td>\n",
       "      <td>NaN</td>\n",
       "      <td>NaN</td>\n",
       "      <td>NaN</td>\n",
       "      <td>NaN</td>\n",
       "      <td>NaN</td>\n",
       "      <td>NaN</td>\n",
       "      <td>NaN</td>\n",
       "      <td>NaN</td>\n",
       "      <td>NaN</td>\n",
       "      <td>NaN</td>\n",
       "      <td>NaN</td>\n",
       "      <td>NaN</td>\n",
       "      <td>NaN</td>\n",
       "      <td>NaN</td>\n",
       "      <td>NaN</td>\n",
       "      <td>360.0</td>\n",
       "      <td>301.0</td>\n",
       "      <td>False</td>\n",
       "      <td>0</td>\n",
       "      <td>0</td>\n",
       "      <td>0</td>\n",
       "      <td>1</td>\n",
       "      <td>1</td>\n",
       "    </tr>\n",
       "    <tr>\n",
       "      <th>4</th>\n",
       "      <td>50</td>\n",
       "      <td>6</td>\n",
       "      <td>1.150000</td>\n",
       "      <td>2120</td>\n",
       "      <td>7</td>\n",
       "      <td>9.720000</td>\n",
       "      <td>1974</td>\n",
       "      <td>5</td>\n",
       "      <td>12.658000</td>\n",
       "      <td>2990</td>\n",
       "      <td>4</td>\n",
       "      <td>65.907500</td>\n",
       "      <td>1016</td>\n",
       "      <td>7</td>\n",
       "      <td>160.667143</td>\n",
       "      <td>2445</td>\n",
       "      <td>7</td>\n",
       "      <td>97.385714</td>\n",
       "      <td>2445</td>\n",
       "      <td>NaN</td>\n",
       "      <td>NaN</td>\n",
       "      <td>NaN</td>\n",
       "      <td>NaN</td>\n",
       "      <td>NaN</td>\n",
       "      <td>NaN</td>\n",
       "      <td>NaN</td>\n",
       "      <td>NaN</td>\n",
       "      <td>360.0</td>\n",
       "      <td>NaN</td>\n",
       "      <td>540.0</td>\n",
       "      <td>NaN</td>\n",
       "      <td>NaN</td>\n",
       "      <td>NaN</td>\n",
       "      <td>NaN</td>\n",
       "      <td>720.0</td>\n",
       "      <td>NaN</td>\n",
       "      <td>NaN</td>\n",
       "      <td>NaN</td>\n",
       "      <td>NaN</td>\n",
       "      <td>NaN</td>\n",
       "      <td>1620.0</td>\n",
       "      <td>481.0</td>\n",
       "      <td>True</td>\n",
       "      <td>0</td>\n",
       "      <td>0</td>\n",
       "      <td>0</td>\n",
       "      <td>1</td>\n",
       "      <td>0</td>\n",
       "    </tr>\n",
       "  </tbody>\n",
       "</table>\n",
       "</div>"
      ],
      "text/plain": [
       "   age  creatinine_no_of_test  ...  race_White  gender_Male\n",
       "0   70                      6  ...           0            1\n",
       "1   71                      5  ...           1            0\n",
       "2   57                      5  ...           1            0\n",
       "3   74                      5  ...           1            1\n",
       "4   50                      6  ...           1            0\n",
       "\n",
       "[5 rows x 48 columns]"
      ]
     },
     "execution_count": 46,
     "metadata": {
      "tags": []
     },
     "output_type": "execute_result"
    }
   ],
   "source": [
    "CKD_dummies.head()"
   ]
  },
  {
   "cell_type": "markdown",
   "metadata": {
    "colab": {},
    "colab_type": "code",
    "id": "9MjITaedE6aU"
   },
   "source": [
    "\n",
    "### Now check, is there any columns with NA/ nul values"
   ]
  },
  {
   "cell_type": "code",
   "execution_count": 47,
   "metadata": {
    "colab": {
     "base_uri": "https://localhost:8080/",
     "height": 850
    },
    "colab_type": "code",
    "id": "2Ywm4wbrE6ld",
    "outputId": "485f7d76-042b-48bb-a51d-73ae6af9a22c"
   },
   "outputs": [
    {
     "data": {
      "text/plain": [
       "age                                0\n",
       "creatinine_no_of_test              0\n",
       "creatinine_mean_value              0\n",
       "creatinine_duration_of_test        0\n",
       "glucose_no_of_test                 0\n",
       "glucose_mean_value                 0\n",
       "glucose_duration_of_test           0\n",
       "HGB_no_of_test                     0\n",
       "HGB_mean_value                     0\n",
       "HGB_duration_of_test               0\n",
       "ldl_no_of_test                     0\n",
       "ldl_mean_value                     0\n",
       "ldl_duration_of_test               0\n",
       "SBP_no_of_test                     0\n",
       "SBP_mean_value                     0\n",
       "SBP_duration_of_test               0\n",
       "DBP_no_of_test                     0\n",
       "DBP_mean_value                     0\n",
       "DBP_duration_of_test               0\n",
       "atenolol                         274\n",
       "atorvastatin                     191\n",
       "bisoprolol                       295\n",
       "canagliflozin                    296\n",
       "carvedilol                       283\n",
       "dapagliflozin                    298\n",
       "irbesartan                       294\n",
       "labetalol                        299\n",
       "losartan                         229\n",
       "lovastatin                       284\n",
       "metformin                        184\n",
       "metoprolol                       240\n",
       "nebivolol                        298\n",
       "olmesartan                       293\n",
       "pitavastatin                     298\n",
       "pravastatin                      272\n",
       "propranolol                      298\n",
       "rosuvastatin                     269\n",
       "simvastatin                      225\n",
       "telmisartan                      296\n",
       "valsartan                        273\n",
       "total_no_of_days_with_drug        28\n",
       "total_no_of_days_without_drug     28\n",
       "Stage_Progress                     0\n",
       "race_Black                         0\n",
       "race_Hispanic                      0\n",
       "race_Unknown                       0\n",
       "race_White                         0\n",
       "gender_Male                        0\n",
       "dtype: int64"
      ]
     },
     "execution_count": 47,
     "metadata": {
      "tags": []
     },
     "output_type": "execute_result"
    }
   ],
   "source": [
    "CKD_dummies.isnull().sum()"
   ]
  },
  {
   "cell_type": "markdown",
   "metadata": {
    "colab": {},
    "colab_type": "code",
    "id": "DGfRMVzxGfNG"
   },
   "source": [
    "\n",
    "### Replace the NA's with zero for further processing"
   ]
  },
  {
   "cell_type": "code",
   "execution_count": 0,
   "metadata": {
    "colab": {},
    "colab_type": "code",
    "id": "uaLw6azcGhct"
   },
   "outputs": [],
   "source": [
    "CKD_dummies.fillna(0,inplace=True)"
   ]
  },
  {
   "cell_type": "markdown",
   "metadata": {
    "colab": {},
    "colab_type": "code",
    "id": "x5-A7HZWGhpz"
   },
   "source": [
    "\n",
    "### Check once again to verify"
   ]
  },
  {
   "cell_type": "code",
   "execution_count": 49,
   "metadata": {
    "colab": {
     "base_uri": "https://localhost:8080/",
     "height": 850
    },
    "colab_type": "code",
    "id": "3b7nEQySGfdU",
    "outputId": "2f6d3fcf-2600-4cfa-d0c7-6a4dd064df89"
   },
   "outputs": [
    {
     "data": {
      "text/plain": [
       "age                              0\n",
       "creatinine_no_of_test            0\n",
       "creatinine_mean_value            0\n",
       "creatinine_duration_of_test      0\n",
       "glucose_no_of_test               0\n",
       "glucose_mean_value               0\n",
       "glucose_duration_of_test         0\n",
       "HGB_no_of_test                   0\n",
       "HGB_mean_value                   0\n",
       "HGB_duration_of_test             0\n",
       "ldl_no_of_test                   0\n",
       "ldl_mean_value                   0\n",
       "ldl_duration_of_test             0\n",
       "SBP_no_of_test                   0\n",
       "SBP_mean_value                   0\n",
       "SBP_duration_of_test             0\n",
       "DBP_no_of_test                   0\n",
       "DBP_mean_value                   0\n",
       "DBP_duration_of_test             0\n",
       "atenolol                         0\n",
       "atorvastatin                     0\n",
       "bisoprolol                       0\n",
       "canagliflozin                    0\n",
       "carvedilol                       0\n",
       "dapagliflozin                    0\n",
       "irbesartan                       0\n",
       "labetalol                        0\n",
       "losartan                         0\n",
       "lovastatin                       0\n",
       "metformin                        0\n",
       "metoprolol                       0\n",
       "nebivolol                        0\n",
       "olmesartan                       0\n",
       "pitavastatin                     0\n",
       "pravastatin                      0\n",
       "propranolol                      0\n",
       "rosuvastatin                     0\n",
       "simvastatin                      0\n",
       "telmisartan                      0\n",
       "valsartan                        0\n",
       "total_no_of_days_with_drug       0\n",
       "total_no_of_days_without_drug    0\n",
       "Stage_Progress                   0\n",
       "race_Black                       0\n",
       "race_Hispanic                    0\n",
       "race_Unknown                     0\n",
       "race_White                       0\n",
       "gender_Male                      0\n",
       "dtype: int64"
      ]
     },
     "execution_count": 49,
     "metadata": {
      "tags": []
     },
     "output_type": "execute_result"
    }
   ],
   "source": [
    "CKD_dummies.isnull().sum()"
   ]
  },
  {
   "cell_type": "markdown",
   "metadata": {
    "colab": {},
    "colab_type": "code",
    "id": "MtcR4t8zHGVK"
   },
   "source": [
    "\n",
    "\n",
    "\n",
    "\n",
    "\n",
    "### Prepare Independent variables and target variable\n",
    "######  1. Split the dataset into train and test \n",
    "######     Traing set = 90%\n",
    "######     Test Set = 10%     (As we have very limited observation points)"
   ]
  },
  {
   "cell_type": "code",
   "execution_count": 50,
   "metadata": {
    "colab": {
     "base_uri": "https://localhost:8080/",
     "height": 51
    },
    "colab_type": "code",
    "id": "-zatXhHPHKRW",
    "outputId": "9902f3a8-3fa6-4b75-acbb-972df24a310c"
   },
   "outputs": [
    {
     "name": "stdout",
     "output_type": "stream",
     "text": [
      "(300, 47)\n",
      "(300,)\n"
     ]
    }
   ],
   "source": [
    "x = CKD_dummies[[col for col in CKD_dummies.columns if col!='Stage_Progress']]\n",
    "y = CKD_dummies['Stage_Progress']\n",
    "print(x.shape)\n",
    "print(y.shape)"
   ]
  },
  {
   "cell_type": "code",
   "execution_count": 52,
   "metadata": {
    "colab": {
     "base_uri": "https://localhost:8080/",
     "height": 85
    },
    "colab_type": "code",
    "id": "XmJSqBrcHUQG",
    "outputId": "a5a8a0ea-ca43-49e2-9c66-67634d540446"
   },
   "outputs": [
    {
     "name": "stdout",
     "output_type": "stream",
     "text": [
      "(270, 47)\n",
      "(30, 47)\n",
      "(270,)\n",
      "(30,)\n"
     ]
    }
   ],
   "source": [
    "x_train,x_test,y_train,y_test = train_test_split(x,y,test_size=0.10,random_state=123)\n",
    "print(x_train.shape)\n",
    "print(x_test.shape)\n",
    "print(y_train.shape)\n",
    "print(y_test.shape)"
   ]
  },
  {
   "cell_type": "markdown",
   "metadata": {
    "colab": {},
    "colab_type": "code",
    "id": "doDBZS_gHvqZ"
   },
   "source": [
    "## Build the Model using Logistic Regression and also fit the model on the training dataset"
   ]
  },
  {
   "cell_type": "code",
   "execution_count": 53,
   "metadata": {
    "colab": {
     "base_uri": "https://localhost:8080/",
     "height": 258
    },
    "colab_type": "code",
    "id": "Pa9s1jRcHv1C",
    "outputId": "118d319c-b868-48e5-d3f3-ec85431ea0e6"
   },
   "outputs": [
    {
     "name": "stderr",
     "output_type": "stream",
     "text": [
      "/usr/local/lib/python3.6/dist-packages/sklearn/linear_model/_logistic.py:940: ConvergenceWarning: lbfgs failed to converge (status=1):\n",
      "STOP: TOTAL NO. of ITERATIONS REACHED LIMIT.\n",
      "\n",
      "Increase the number of iterations (max_iter) or scale the data as shown in:\n",
      "    https://scikit-learn.org/stable/modules/preprocessing.html\n",
      "Please also refer to the documentation for alternative solver options:\n",
      "    https://scikit-learn.org/stable/modules/linear_model.html#logistic-regression\n",
      "  extra_warning_msg=_LOGISTIC_SOLVER_CONVERGENCE_MSG)\n"
     ]
    },
    {
     "data": {
      "text/plain": [
       "LogisticRegression(C=1.0, class_weight=None, dual=False, fit_intercept=True,\n",
       "                   intercept_scaling=1, l1_ratio=None, max_iter=100,\n",
       "                   multi_class='auto', n_jobs=None, penalty='l2',\n",
       "                   random_state=None, solver='lbfgs', tol=0.0001, verbose=0,\n",
       "                   warm_start=False)"
      ]
     },
     "execution_count": 53,
     "metadata": {
      "tags": []
     },
     "output_type": "execute_result"
    }
   ],
   "source": [
    "logreg_model = LogisticRegression()\n",
    "logreg_model.fit(x_train,y_train)"
   ]
  },
  {
   "cell_type": "markdown",
   "metadata": {
    "colab": {},
    "colab_type": "code",
    "id": "ldm99A8jHUVF"
   },
   "source": [
    "### Now predict the testing data for accuracy and all"
   ]
  },
  {
   "cell_type": "code",
   "execution_count": 0,
   "metadata": {
    "colab": {},
    "colab_type": "code",
    "id": "iVDtkFrCH228"
   },
   "outputs": [],
   "source": [
    "y_pred=logreg_model.predict(x_test)"
   ]
  },
  {
   "cell_type": "markdown",
   "metadata": {
    "colab": {},
    "colab_type": "code",
    "id": "KNkEj_5gH_d0"
   },
   "source": [
    "### Calculate confusion matrix along with plot the heat map"
   ]
  },
  {
   "cell_type": "code",
   "execution_count": 56,
   "metadata": {
    "colab": {
     "base_uri": "https://localhost:8080/",
     "height": 51
    },
    "colab_type": "code",
    "id": "O1lsATWI-0td",
    "outputId": "d25b1c05-7bdb-4b2f-b96d-1bfc53207cd0"
   },
   "outputs": [
    {
     "data": {
      "text/plain": [
       "array([[23,  0],\n",
       "       [ 6,  1]])"
      ]
     },
     "execution_count": 56,
     "metadata": {
      "tags": []
     },
     "output_type": "execute_result"
    }
   ],
   "source": [
    "cnf_matrix = metrics.confusion_matrix(y_test, y_pred)\n",
    "cnf_matrix"
   ]
  },
  {
   "cell_type": "code",
   "execution_count": 59,
   "metadata": {
    "colab": {
     "base_uri": "https://localhost:8080/",
     "height": 342
    },
    "colab_type": "code",
    "id": "FBi8pptW-_FS",
    "outputId": "d88da24a-3297-4a26-b5b4-a2e4610a9c7a"
   },
   "outputs": [
    {
     "data": {
      "text/plain": [
       "Text(0.5, 257.44, 'Predicted label')"
      ]
     },
     "execution_count": 59,
     "metadata": {
      "tags": []
     },
     "output_type": "execute_result"
    },
    {
     "data": {
      "image/png": "[encoded data removed]",
      "text/plain": [
       "<Figure size 432x288 with 2 Axes>"
      ]
     },
     "metadata": {
      "tags": []
     },
     "output_type": "display_data"
    }
   ],
   "source": [
    "class_names=[0,1] # name  of classes\n",
    "fig, ax = plt.subplots()\n",
    "tick_marks = np.arange(len(class_names))\n",
    "plt.xticks(tick_marks, class_names)\n",
    "plt.yticks(tick_marks, class_names)\n",
    "# create heatmap\n",
    "sns.heatmap(pd.DataFrame(cnf_matrix), annot=True, cmap=\"YlGnBu\" ,fmt='g')\n",
    "ax.xaxis.set_label_position(\"top\")\n",
    "plt.tight_layout()\n",
    "plt.title('Confusion matrix', y=1.1)\n",
    "plt.ylabel('Actual label')\n",
    "plt.xlabel('Predicted label')"
   ]
  },
  {
   "cell_type": "markdown",
   "metadata": {
    "colab": {},
    "colab_type": "code",
    "id": "0LKiA7hCapsH"
   },
   "source": [
    "### Calculate Recall, Precision and Accuracy along with ROC score and its curve"
   ]
  },
  {
   "cell_type": "code",
   "execution_count": 60,
   "metadata": {
    "colab": {
     "base_uri": "https://localhost:8080/",
     "height": 68
    },
    "colab_type": "code",
    "id": "l3B0p1ri_Tav",
    "outputId": "a7255f3e-98d2-4499-8bc1-a151e0ca2eb0"
   },
   "outputs": [
    {
     "name": "stdout",
     "output_type": "stream",
     "text": [
      "Accuracy: 0.8\n",
      "Precision: 1.0\n",
      "Recall: 0.14285714285714285\n"
     ]
    }
   ],
   "source": [
    "print(\"Accuracy:\",metrics.accuracy_score(y_test, y_pred))\n",
    "print(\"Precision:\",metrics.precision_score(y_test, y_pred))\n",
    "print(\"Recall:\",metrics.recall_score(y_test, y_pred))"
   ]
  },
  {
   "cell_type": "code",
   "execution_count": 63,
   "metadata": {
    "colab": {
     "base_uri": "https://localhost:8080/",
     "height": 265
    },
    "colab_type": "code",
    "id": "kmuGoLGE_dNO",
    "outputId": "619462b8-2a76-4f1a-bee9-3f3ef87725be"
   },
   "outputs": [
    {
     "data": {
      "image/png": "[encoded data removed]",
      "text/plain": [
       "<Figure size 432x288 with 1 Axes>"
      ]
     },
     "metadata": {
      "tags": []
     },
     "output_type": "display_data"
    }
   ],
   "source": [
    "y_pred_proba = logreg_model.predict_proba(x_test)[::,1]\n",
    "fpr, tpr, _ = metrics.roc_curve(y_test,  y_pred_proba)\n",
    "auc = metrics.roc_auc_score(y_test, y_pred_proba)\n",
    "plt.plot(fpr,tpr,label=\"data 1, auc=\"+str(auc))\n",
    "plt.legend(loc=4)\n",
    "plt.show()"
   ]
  },
  {
   "cell_type": "code",
   "execution_count": 0,
   "metadata": {
    "colab": {},
    "colab_type": "code",
    "id": "vG3EzPDJ_dWf"
   },
   "outputs": [],
   "source": []
  }
 ],
 "metadata": {
  "accelerator": "GPU",
  "colab": {
   "collapsed_sections": [],
   "name": "Building_Model_With_Logistic_Regression.ipynb",
   "provenance": []
  },
  "kernelspec": {
   "display_name": "Python 3",
   "language": "python",
   "name": "python3"
  },
  "language_info": {
   "codemirror_mode": {
    "name": "ipython",
    "version": 3
   },
   "file_extension": ".py",
   "mimetype": "text/x-python",
   "name": "python",
   "nbconvert_exporter": "python",
   "pygments_lexer": "ipython3",
   "version": "3.6.10"
  }
 },
 "nbformat": 4,
 "nbformat_minor": 1
}
