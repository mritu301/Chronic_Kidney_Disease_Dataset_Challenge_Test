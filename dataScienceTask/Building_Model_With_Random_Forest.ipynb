{
 "cells": [
  {
   "cell_type": "markdown",
   "metadata": {
    "colab_type": "text",
    "id": "5wjzxxDWCV8u"
   },
   "source": [
    "# Now Building CKD model after spliting the data into training and testing part \n",
    "### (We can split the data into training, testing and validation part but the observation points is too small)"
   ]
  },
  {
   "cell_type": "code",
   "execution_count": 3,
   "metadata": {
    "colab": {
     "base_uri": "https://localhost:8080/",
     "height": 54
    },
    "colab_type": "code",
    "id": "5rnb_ppRCugR",
    "outputId": "aa062660-607c-4f65-a27b-86dfd0e4bc7a"
   },
   "outputs": [
    {
     "name": "stdout",
     "output_type": "stream",
     "text": [
      "Drive already mounted at /content/drive; to attempt to forcibly remount, call drive.mount(\"/content/drive\", force_remount=True).\n"
     ]
    }
   ],
   "source": [
    "from google.colab import drive\n",
    "drive.mount('/content/drive')"
   ]
  },
  {
   "cell_type": "markdown",
   "metadata": {
    "colab_type": "text",
    "id": "ogxlZrVSCV82"
   },
   "source": [
    "\n",
    "### Load all the relavent libraries"
   ]
  },
  {
   "cell_type": "code",
   "execution_count": 5,
   "metadata": {
    "colab": {
     "base_uri": "https://localhost:8080/",
     "height": 105
    },
    "colab_type": "code",
    "id": "pOQWV1ULCV85",
    "outputId": "77796c5b-0f9b-4969-c65a-397d7f19c09b"
   },
   "outputs": [],
   "source": [
    "import pandas as pd\n",
    "import numpy as np\n",
    "from sklearn.ensemble import RandomForestClassifier\n",
    "from imblearn.under_sampling import RandomUnderSampler\n",
    "from sklearn.model_selection import train_test_split\n",
    "from sklearn.model_selection import GridSearchCV,train_test_split\n",
    "from sklearn.metrics import recall_score\n",
    "from imblearn.over_sampling import SMOTE\n",
    "from sklearn import metrics\n",
    "import matplotlib.pyplot as plt\n",
    "import seaborn as sns\n",
    "%matplotlib inline"
   ]
  },
  {
   "cell_type": "code",
   "execution_count": 4,
   "metadata": {
    "colab": {},
    "colab_type": "code",
    "id": "DJn04O5RCV9F"
   },
   "outputs": [
    {
     "name": "stdout",
     "output_type": "stream",
     "text": [
      "Collecting imblearn\n",
      "  Downloading imblearn-0.0-py2.py3-none-any.whl (1.9 kB)\n",
      "Collecting imbalanced-learn\n",
      "  Downloading imbalanced_learn-0.6.2-py3-none-any.whl (163 kB)\n",
      "\u001b[K     |████████████████████████████████| 163 kB 7.8 MB/s eta 0:00:01\n",
      "\u001b[?25hRequirement already satisfied: numpy>=1.11 in /home/mj/anaconda3/envs/IDSC_ENV/lib/python3.6/site-packages (from imbalanced-learn->imblearn) (1.18.1)\n",
      "Requirement already satisfied: scipy>=0.17 in /home/mj/anaconda3/envs/IDSC_ENV/lib/python3.6/site-packages (from imbalanced-learn->imblearn) (1.4.1)\n",
      "Requirement already satisfied: scikit-learn>=0.22 in /home/mj/anaconda3/envs/IDSC_ENV/lib/python3.6/site-packages (from imbalanced-learn->imblearn) (0.22.1)\n",
      "Requirement already satisfied: joblib>=0.11 in /home/mj/anaconda3/envs/IDSC_ENV/lib/python3.6/site-packages (from imbalanced-learn->imblearn) (0.14.1)\n",
      "Installing collected packages: imbalanced-learn, imblearn\n",
      "Successfully installed imbalanced-learn-0.6.2 imblearn-0.0\n"
     ]
    }
   ],
   "source": [
    "#! pip install imblearn"
   ]
  },
  {
   "cell_type": "markdown",
   "metadata": {
    "colab_type": "text",
    "id": "8CuC0RsUCV9R"
   },
   "source": [
    "### Load the Consolidated CKD Dataset for further processing"
   ]
  },
  {
   "cell_type": "code",
   "execution_count": 9,
   "metadata": {
    "colab": {},
    "colab_type": "code",
    "id": "Hwd1BPH4CV9T"
   },
   "outputs": [],
   "source": [
    "#CKD = pd.read_csv(\"/content/consolidate_ckd.csv\")\n",
    "CKD = pd.read_csv(\"consolidate_ckd.csv\")"
   ]
  },
  {
   "cell_type": "code",
   "execution_count": 7,
   "metadata": {
    "colab": {
     "base_uri": "https://localhost:8080/",
     "height": 224
    },
    "colab_type": "code",
    "id": "MFvVgWltCV9c",
    "outputId": "9f0828c2-36fe-407e-e0ab-178b15d2e841"
   },
   "outputs": [
    {
     "data": {
      "text/html": [
       "<div>\n",
       "<style scoped>\n",
       "    .dataframe tbody tr th:only-of-type {\n",
       "        vertical-align: middle;\n",
       "    }\n",
       "\n",
       "    .dataframe tbody tr th {\n",
       "        vertical-align: top;\n",
       "    }\n",
       "\n",
       "    .dataframe thead th {\n",
       "        text-align: right;\n",
       "    }\n",
       "</style>\n",
       "<table border=\"1\" class=\"dataframe\">\n",
       "  <thead>\n",
       "    <tr style=\"text-align: right;\">\n",
       "      <th></th>\n",
       "      <th>id</th>\n",
       "      <th>race</th>\n",
       "      <th>gender</th>\n",
       "      <th>age</th>\n",
       "      <th>creatinine_no_of_test</th>\n",
       "      <th>creatinine_mean_value</th>\n",
       "      <th>creatinine_duration_of_test</th>\n",
       "      <th>glucose_no_of_test</th>\n",
       "      <th>glucose_mean_value</th>\n",
       "      <th>glucose_duration_of_test</th>\n",
       "      <th>HGB_no_of_test</th>\n",
       "      <th>HGB_mean_value</th>\n",
       "      <th>HGB_duration_of_test</th>\n",
       "      <th>ldl_no_of_test</th>\n",
       "      <th>ldl_mean_value</th>\n",
       "      <th>ldl_duration_of_test</th>\n",
       "      <th>SBP_no_of_test</th>\n",
       "      <th>SBP_mean_value</th>\n",
       "      <th>SBP_duration_of_test</th>\n",
       "      <th>DBP_no_of_test</th>\n",
       "      <th>DBP_mean_value</th>\n",
       "      <th>DBP_duration_of_test</th>\n",
       "      <th>atenolol</th>\n",
       "      <th>atorvastatin</th>\n",
       "      <th>bisoprolol</th>\n",
       "      <th>canagliflozin</th>\n",
       "      <th>carvedilol</th>\n",
       "      <th>dapagliflozin</th>\n",
       "      <th>irbesartan</th>\n",
       "      <th>labetalol</th>\n",
       "      <th>losartan</th>\n",
       "      <th>lovastatin</th>\n",
       "      <th>metformin</th>\n",
       "      <th>metoprolol</th>\n",
       "      <th>nebivolol</th>\n",
       "      <th>olmesartan</th>\n",
       "      <th>pitavastatin</th>\n",
       "      <th>pravastatin</th>\n",
       "      <th>propranolol</th>\n",
       "      <th>rosuvastatin</th>\n",
       "      <th>simvastatin</th>\n",
       "      <th>telmisartan</th>\n",
       "      <th>valsartan</th>\n",
       "      <th>total_no_of_days_with_drug</th>\n",
       "      <th>total_no_of_days_without_drug</th>\n",
       "      <th>Stage_Progress</th>\n",
       "    </tr>\n",
       "  </thead>\n",
       "  <tbody>\n",
       "    <tr>\n",
       "      <th>0</th>\n",
       "      <td>0</td>\n",
       "      <td>Unknown</td>\n",
       "      <td>Male</td>\n",
       "      <td>70</td>\n",
       "      <td>6</td>\n",
       "      <td>1.236667</td>\n",
       "      <td>2043</td>\n",
       "      <td>6</td>\n",
       "      <td>6.456667</td>\n",
       "      <td>2043</td>\n",
       "      <td>9</td>\n",
       "      <td>13.262222</td>\n",
       "      <td>5405</td>\n",
       "      <td>3</td>\n",
       "      <td>143.593333</td>\n",
       "      <td>489</td>\n",
       "      <td>8</td>\n",
       "      <td>139.610000</td>\n",
       "      <td>3169</td>\n",
       "      <td>8</td>\n",
       "      <td>83.173750</td>\n",
       "      <td>3169</td>\n",
       "      <td>NaN</td>\n",
       "      <td>180.0</td>\n",
       "      <td>NaN</td>\n",
       "      <td>NaN</td>\n",
       "      <td>NaN</td>\n",
       "      <td>NaN</td>\n",
       "      <td>NaN</td>\n",
       "      <td>NaN</td>\n",
       "      <td>450.0</td>\n",
       "      <td>NaN</td>\n",
       "      <td>660.0</td>\n",
       "      <td>NaN</td>\n",
       "      <td>NaN</td>\n",
       "      <td>NaN</td>\n",
       "      <td>NaN</td>\n",
       "      <td>NaN</td>\n",
       "      <td>NaN</td>\n",
       "      <td>NaN</td>\n",
       "      <td>NaN</td>\n",
       "      <td>NaN</td>\n",
       "      <td>NaN</td>\n",
       "      <td>1290.0</td>\n",
       "      <td>328.0</td>\n",
       "      <td>True</td>\n",
       "    </tr>\n",
       "    <tr>\n",
       "      <th>1</th>\n",
       "      <td>1</td>\n",
       "      <td>White</td>\n",
       "      <td>Female</td>\n",
       "      <td>71</td>\n",
       "      <td>5</td>\n",
       "      <td>1.838000</td>\n",
       "      <td>1214</td>\n",
       "      <td>5</td>\n",
       "      <td>9.240000</td>\n",
       "      <td>1602</td>\n",
       "      <td>7</td>\n",
       "      <td>13.662857</td>\n",
       "      <td>4777</td>\n",
       "      <td>5</td>\n",
       "      <td>82.424000</td>\n",
       "      <td>1602</td>\n",
       "      <td>7</td>\n",
       "      <td>150.232857</td>\n",
       "      <td>2454</td>\n",
       "      <td>7</td>\n",
       "      <td>80.455714</td>\n",
       "      <td>2454</td>\n",
       "      <td>NaN</td>\n",
       "      <td>300.0</td>\n",
       "      <td>NaN</td>\n",
       "      <td>NaN</td>\n",
       "      <td>NaN</td>\n",
       "      <td>NaN</td>\n",
       "      <td>NaN</td>\n",
       "      <td>NaN</td>\n",
       "      <td>NaN</td>\n",
       "      <td>NaN</td>\n",
       "      <td>NaN</td>\n",
       "      <td>NaN</td>\n",
       "      <td>NaN</td>\n",
       "      <td>NaN</td>\n",
       "      <td>NaN</td>\n",
       "      <td>NaN</td>\n",
       "      <td>NaN</td>\n",
       "      <td>NaN</td>\n",
       "      <td>NaN</td>\n",
       "      <td>NaN</td>\n",
       "      <td>NaN</td>\n",
       "      <td>300.0</td>\n",
       "      <td>221.0</td>\n",
       "      <td>False</td>\n",
       "    </tr>\n",
       "    <tr>\n",
       "      <th>2</th>\n",
       "      <td>2</td>\n",
       "      <td>White</td>\n",
       "      <td>Female</td>\n",
       "      <td>57</td>\n",
       "      <td>5</td>\n",
       "      <td>2.170000</td>\n",
       "      <td>1737</td>\n",
       "      <td>3</td>\n",
       "      <td>6.466667</td>\n",
       "      <td>804</td>\n",
       "      <td>8</td>\n",
       "      <td>15.700000</td>\n",
       "      <td>4500</td>\n",
       "      <td>3</td>\n",
       "      <td>75.283333</td>\n",
       "      <td>681</td>\n",
       "      <td>4</td>\n",
       "      <td>140.210000</td>\n",
       "      <td>1242</td>\n",
       "      <td>4</td>\n",
       "      <td>89.217500</td>\n",
       "      <td>1242</td>\n",
       "      <td>NaN</td>\n",
       "      <td>NaN</td>\n",
       "      <td>NaN</td>\n",
       "      <td>NaN</td>\n",
       "      <td>NaN</td>\n",
       "      <td>NaN</td>\n",
       "      <td>NaN</td>\n",
       "      <td>NaN</td>\n",
       "      <td>NaN</td>\n",
       "      <td>NaN</td>\n",
       "      <td>NaN</td>\n",
       "      <td>NaN</td>\n",
       "      <td>NaN</td>\n",
       "      <td>NaN</td>\n",
       "      <td>NaN</td>\n",
       "      <td>NaN</td>\n",
       "      <td>NaN</td>\n",
       "      <td>180.0</td>\n",
       "      <td>NaN</td>\n",
       "      <td>NaN</td>\n",
       "      <td>NaN</td>\n",
       "      <td>180.0</td>\n",
       "      <td>487.0</td>\n",
       "      <td>True</td>\n",
       "    </tr>\n",
       "    <tr>\n",
       "      <th>3</th>\n",
       "      <td>3</td>\n",
       "      <td>White</td>\n",
       "      <td>Male</td>\n",
       "      <td>74</td>\n",
       "      <td>5</td>\n",
       "      <td>0.996000</td>\n",
       "      <td>1800</td>\n",
       "      <td>6</td>\n",
       "      <td>6.525000</td>\n",
       "      <td>2475</td>\n",
       "      <td>10</td>\n",
       "      <td>13.198000</td>\n",
       "      <td>7395</td>\n",
       "      <td>5</td>\n",
       "      <td>98.246000</td>\n",
       "      <td>1670</td>\n",
       "      <td>7</td>\n",
       "      <td>139.588571</td>\n",
       "      <td>2963</td>\n",
       "      <td>7</td>\n",
       "      <td>74.857143</td>\n",
       "      <td>2963</td>\n",
       "      <td>NaN</td>\n",
       "      <td>360.0</td>\n",
       "      <td>NaN</td>\n",
       "      <td>NaN</td>\n",
       "      <td>NaN</td>\n",
       "      <td>NaN</td>\n",
       "      <td>NaN</td>\n",
       "      <td>NaN</td>\n",
       "      <td>NaN</td>\n",
       "      <td>NaN</td>\n",
       "      <td>NaN</td>\n",
       "      <td>NaN</td>\n",
       "      <td>NaN</td>\n",
       "      <td>NaN</td>\n",
       "      <td>NaN</td>\n",
       "      <td>NaN</td>\n",
       "      <td>NaN</td>\n",
       "      <td>NaN</td>\n",
       "      <td>NaN</td>\n",
       "      <td>NaN</td>\n",
       "      <td>NaN</td>\n",
       "      <td>360.0</td>\n",
       "      <td>301.0</td>\n",
       "      <td>False</td>\n",
       "    </tr>\n",
       "    <tr>\n",
       "      <th>4</th>\n",
       "      <td>4</td>\n",
       "      <td>White</td>\n",
       "      <td>Female</td>\n",
       "      <td>50</td>\n",
       "      <td>6</td>\n",
       "      <td>1.150000</td>\n",
       "      <td>2120</td>\n",
       "      <td>7</td>\n",
       "      <td>9.720000</td>\n",
       "      <td>1974</td>\n",
       "      <td>5</td>\n",
       "      <td>12.658000</td>\n",
       "      <td>2990</td>\n",
       "      <td>4</td>\n",
       "      <td>65.907500</td>\n",
       "      <td>1016</td>\n",
       "      <td>7</td>\n",
       "      <td>160.667143</td>\n",
       "      <td>2445</td>\n",
       "      <td>7</td>\n",
       "      <td>97.385714</td>\n",
       "      <td>2445</td>\n",
       "      <td>NaN</td>\n",
       "      <td>NaN</td>\n",
       "      <td>NaN</td>\n",
       "      <td>NaN</td>\n",
       "      <td>NaN</td>\n",
       "      <td>NaN</td>\n",
       "      <td>NaN</td>\n",
       "      <td>NaN</td>\n",
       "      <td>360.0</td>\n",
       "      <td>NaN</td>\n",
       "      <td>540.0</td>\n",
       "      <td>NaN</td>\n",
       "      <td>NaN</td>\n",
       "      <td>NaN</td>\n",
       "      <td>NaN</td>\n",
       "      <td>720.0</td>\n",
       "      <td>NaN</td>\n",
       "      <td>NaN</td>\n",
       "      <td>NaN</td>\n",
       "      <td>NaN</td>\n",
       "      <td>NaN</td>\n",
       "      <td>1620.0</td>\n",
       "      <td>481.0</td>\n",
       "      <td>True</td>\n",
       "    </tr>\n",
       "  </tbody>\n",
       "</table>\n",
       "</div>"
      ],
      "text/plain": [
       "   id     race  ... total_no_of_days_without_drug  Stage_Progress\n",
       "0   0  Unknown  ...                         328.0            True\n",
       "1   1    White  ...                         221.0           False\n",
       "2   2    White  ...                         487.0            True\n",
       "3   3    White  ...                         301.0           False\n",
       "4   4    White  ...                         481.0            True\n",
       "\n",
       "[5 rows x 46 columns]"
      ]
     },
     "execution_count": 7,
     "metadata": {
      "tags": []
     },
     "output_type": "execute_result"
    }
   ],
   "source": [
    "CKD.head()"
   ]
  },
  {
   "cell_type": "code",
   "execution_count": 8,
   "metadata": {
    "colab": {
     "base_uri": "https://localhost:8080/",
     "height": 68
    },
    "colab_type": "code",
    "id": "Ot7hcJ12CV9l",
    "outputId": "e9f5444f-fb74-4ad1-e487-0ec2065eeabc"
   },
   "outputs": [
    {
     "data": {
      "text/plain": [
       "False    200\n",
       "True     100\n",
       "Name: Stage_Progress, dtype: int64"
      ]
     },
     "execution_count": 8,
     "metadata": {
      "tags": []
     },
     "output_type": "execute_result"
    }
   ],
   "source": [
    "CKD.Stage_Progress.value_counts()"
   ]
  },
  {
   "cell_type": "markdown",
   "metadata": {
    "colab": {},
    "colab_type": "code",
    "id": "g6INd8d0Emlh"
   },
   "source": [
    "### Here, We can see CKD Stage progress rate for success = 33.3 %\n",
    "###                     Stage progress rate for failure = 66.7 %\n",
    "<br>\n",
    "<br>"
   ]
  },
  {
   "cell_type": "code",
   "execution_count": 10,
   "metadata": {
    "colab": {
     "base_uri": "https://localhost:8080/",
     "height": 34
    },
    "colab_type": "code",
    "id": "VWq-uL3TCV96",
    "outputId": "d3b719b3-ed81-4cb9-e81a-7f94d31651e0"
   },
   "outputs": [
    {
     "data": {
      "text/plain": [
       "(300, 45)"
      ]
     },
     "execution_count": 10,
     "metadata": {
      "tags": []
     },
     "output_type": "execute_result"
    }
   ],
   "source": [
    "CKD = CKD[[col for col in CKD.columns if col!='id']] ## removing id columns as it is unique val to identify\n",
    "CKD.shape\n"
   ]
  },
  {
   "cell_type": "markdown",
   "metadata": {
    "colab": {},
    "colab_type": "code",
    "id": "u-6CpibvElyq"
   },
   "source": [
    "### Create Dummies for Categorical Columns : Race and Gender"
   ]
  },
  {
   "cell_type": "code",
   "execution_count": 11,
   "metadata": {
    "colab": {
     "base_uri": "https://localhost:8080/",
     "height": 34
    },
    "colab_type": "code",
    "id": "cercRDxMEVDk",
    "outputId": "b1e88f64-000c-4d5f-f03a-af3de26818c9"
   },
   "outputs": [
    {
     "data": {
      "text/plain": [
       "(300, 48)"
      ]
     },
     "execution_count": 11,
     "metadata": {
      "tags": []
     },
     "output_type": "execute_result"
    }
   ],
   "source": [
    "CKD_dummies = pd.get_dummies(data=CKD, columns=['race','gender'],drop_first=True)\n",
    "CKD_dummies.shape"
   ]
  },
  {
   "cell_type": "code",
   "execution_count": 12,
   "metadata": {
    "colab": {
     "base_uri": "https://localhost:8080/",
     "height": 224
    },
    "colab_type": "code",
    "id": "79xxECkiE0au",
    "outputId": "49978520-ccfb-4df8-a2c1-0a8e8d3b7062"
   },
   "outputs": [
    {
     "data": {
      "text/html": [
       "<div>\n",
       "<style scoped>\n",
       "    .dataframe tbody tr th:only-of-type {\n",
       "        vertical-align: middle;\n",
       "    }\n",
       "\n",
       "    .dataframe tbody tr th {\n",
       "        vertical-align: top;\n",
       "    }\n",
       "\n",
       "    .dataframe thead th {\n",
       "        text-align: right;\n",
       "    }\n",
       "</style>\n",
       "<table border=\"1\" class=\"dataframe\">\n",
       "  <thead>\n",
       "    <tr style=\"text-align: right;\">\n",
       "      <th></th>\n",
       "      <th>age</th>\n",
       "      <th>creatinine_no_of_test</th>\n",
       "      <th>creatinine_mean_value</th>\n",
       "      <th>creatinine_duration_of_test</th>\n",
       "      <th>glucose_no_of_test</th>\n",
       "      <th>glucose_mean_value</th>\n",
       "      <th>glucose_duration_of_test</th>\n",
       "      <th>HGB_no_of_test</th>\n",
       "      <th>HGB_mean_value</th>\n",
       "      <th>HGB_duration_of_test</th>\n",
       "      <th>ldl_no_of_test</th>\n",
       "      <th>ldl_mean_value</th>\n",
       "      <th>ldl_duration_of_test</th>\n",
       "      <th>SBP_no_of_test</th>\n",
       "      <th>SBP_mean_value</th>\n",
       "      <th>SBP_duration_of_test</th>\n",
       "      <th>DBP_no_of_test</th>\n",
       "      <th>DBP_mean_value</th>\n",
       "      <th>DBP_duration_of_test</th>\n",
       "      <th>atenolol</th>\n",
       "      <th>atorvastatin</th>\n",
       "      <th>bisoprolol</th>\n",
       "      <th>canagliflozin</th>\n",
       "      <th>carvedilol</th>\n",
       "      <th>dapagliflozin</th>\n",
       "      <th>irbesartan</th>\n",
       "      <th>labetalol</th>\n",
       "      <th>losartan</th>\n",
       "      <th>lovastatin</th>\n",
       "      <th>metformin</th>\n",
       "      <th>metoprolol</th>\n",
       "      <th>nebivolol</th>\n",
       "      <th>olmesartan</th>\n",
       "      <th>pitavastatin</th>\n",
       "      <th>pravastatin</th>\n",
       "      <th>propranolol</th>\n",
       "      <th>rosuvastatin</th>\n",
       "      <th>simvastatin</th>\n",
       "      <th>telmisartan</th>\n",
       "      <th>valsartan</th>\n",
       "      <th>total_no_of_days_with_drug</th>\n",
       "      <th>total_no_of_days_without_drug</th>\n",
       "      <th>Stage_Progress</th>\n",
       "      <th>race_Black</th>\n",
       "      <th>race_Hispanic</th>\n",
       "      <th>race_Unknown</th>\n",
       "      <th>race_White</th>\n",
       "      <th>gender_Male</th>\n",
       "    </tr>\n",
       "  </thead>\n",
       "  <tbody>\n",
       "    <tr>\n",
       "      <th>0</th>\n",
       "      <td>70</td>\n",
       "      <td>6</td>\n",
       "      <td>1.236667</td>\n",
       "      <td>2043</td>\n",
       "      <td>6</td>\n",
       "      <td>6.456667</td>\n",
       "      <td>2043</td>\n",
       "      <td>9</td>\n",
       "      <td>13.262222</td>\n",
       "      <td>5405</td>\n",
       "      <td>3</td>\n",
       "      <td>143.593333</td>\n",
       "      <td>489</td>\n",
       "      <td>8</td>\n",
       "      <td>139.610000</td>\n",
       "      <td>3169</td>\n",
       "      <td>8</td>\n",
       "      <td>83.173750</td>\n",
       "      <td>3169</td>\n",
       "      <td>NaN</td>\n",
       "      <td>180.0</td>\n",
       "      <td>NaN</td>\n",
       "      <td>NaN</td>\n",
       "      <td>NaN</td>\n",
       "      <td>NaN</td>\n",
       "      <td>NaN</td>\n",
       "      <td>NaN</td>\n",
       "      <td>450.0</td>\n",
       "      <td>NaN</td>\n",
       "      <td>660.0</td>\n",
       "      <td>NaN</td>\n",
       "      <td>NaN</td>\n",
       "      <td>NaN</td>\n",
       "      <td>NaN</td>\n",
       "      <td>NaN</td>\n",
       "      <td>NaN</td>\n",
       "      <td>NaN</td>\n",
       "      <td>NaN</td>\n",
       "      <td>NaN</td>\n",
       "      <td>NaN</td>\n",
       "      <td>1290.0</td>\n",
       "      <td>328.0</td>\n",
       "      <td>True</td>\n",
       "      <td>0</td>\n",
       "      <td>0</td>\n",
       "      <td>1</td>\n",
       "      <td>0</td>\n",
       "      <td>1</td>\n",
       "    </tr>\n",
       "    <tr>\n",
       "      <th>1</th>\n",
       "      <td>71</td>\n",
       "      <td>5</td>\n",
       "      <td>1.838000</td>\n",
       "      <td>1214</td>\n",
       "      <td>5</td>\n",
       "      <td>9.240000</td>\n",
       "      <td>1602</td>\n",
       "      <td>7</td>\n",
       "      <td>13.662857</td>\n",
       "      <td>4777</td>\n",
       "      <td>5</td>\n",
       "      <td>82.424000</td>\n",
       "      <td>1602</td>\n",
       "      <td>7</td>\n",
       "      <td>150.232857</td>\n",
       "      <td>2454</td>\n",
       "      <td>7</td>\n",
       "      <td>80.455714</td>\n",
       "      <td>2454</td>\n",
       "      <td>NaN</td>\n",
       "      <td>300.0</td>\n",
       "      <td>NaN</td>\n",
       "      <td>NaN</td>\n",
       "      <td>NaN</td>\n",
       "      <td>NaN</td>\n",
       "      <td>NaN</td>\n",
       "      <td>NaN</td>\n",
       "      <td>NaN</td>\n",
       "      <td>NaN</td>\n",
       "      <td>NaN</td>\n",
       "      <td>NaN</td>\n",
       "      <td>NaN</td>\n",
       "      <td>NaN</td>\n",
       "      <td>NaN</td>\n",
       "      <td>NaN</td>\n",
       "      <td>NaN</td>\n",
       "      <td>NaN</td>\n",
       "      <td>NaN</td>\n",
       "      <td>NaN</td>\n",
       "      <td>NaN</td>\n",
       "      <td>300.0</td>\n",
       "      <td>221.0</td>\n",
       "      <td>False</td>\n",
       "      <td>0</td>\n",
       "      <td>0</td>\n",
       "      <td>0</td>\n",
       "      <td>1</td>\n",
       "      <td>0</td>\n",
       "    </tr>\n",
       "    <tr>\n",
       "      <th>2</th>\n",
       "      <td>57</td>\n",
       "      <td>5</td>\n",
       "      <td>2.170000</td>\n",
       "      <td>1737</td>\n",
       "      <td>3</td>\n",
       "      <td>6.466667</td>\n",
       "      <td>804</td>\n",
       "      <td>8</td>\n",
       "      <td>15.700000</td>\n",
       "      <td>4500</td>\n",
       "      <td>3</td>\n",
       "      <td>75.283333</td>\n",
       "      <td>681</td>\n",
       "      <td>4</td>\n",
       "      <td>140.210000</td>\n",
       "      <td>1242</td>\n",
       "      <td>4</td>\n",
       "      <td>89.217500</td>\n",
       "      <td>1242</td>\n",
       "      <td>NaN</td>\n",
       "      <td>NaN</td>\n",
       "      <td>NaN</td>\n",
       "      <td>NaN</td>\n",
       "      <td>NaN</td>\n",
       "      <td>NaN</td>\n",
       "      <td>NaN</td>\n",
       "      <td>NaN</td>\n",
       "      <td>NaN</td>\n",
       "      <td>NaN</td>\n",
       "      <td>NaN</td>\n",
       "      <td>NaN</td>\n",
       "      <td>NaN</td>\n",
       "      <td>NaN</td>\n",
       "      <td>NaN</td>\n",
       "      <td>NaN</td>\n",
       "      <td>NaN</td>\n",
       "      <td>180.0</td>\n",
       "      <td>NaN</td>\n",
       "      <td>NaN</td>\n",
       "      <td>NaN</td>\n",
       "      <td>180.0</td>\n",
       "      <td>487.0</td>\n",
       "      <td>True</td>\n",
       "      <td>0</td>\n",
       "      <td>0</td>\n",
       "      <td>0</td>\n",
       "      <td>1</td>\n",
       "      <td>0</td>\n",
       "    </tr>\n",
       "    <tr>\n",
       "      <th>3</th>\n",
       "      <td>74</td>\n",
       "      <td>5</td>\n",
       "      <td>0.996000</td>\n",
       "      <td>1800</td>\n",
       "      <td>6</td>\n",
       "      <td>6.525000</td>\n",
       "      <td>2475</td>\n",
       "      <td>10</td>\n",
       "      <td>13.198000</td>\n",
       "      <td>7395</td>\n",
       "      <td>5</td>\n",
       "      <td>98.246000</td>\n",
       "      <td>1670</td>\n",
       "      <td>7</td>\n",
       "      <td>139.588571</td>\n",
       "      <td>2963</td>\n",
       "      <td>7</td>\n",
       "      <td>74.857143</td>\n",
       "      <td>2963</td>\n",
       "      <td>NaN</td>\n",
       "      <td>360.0</td>\n",
       "      <td>NaN</td>\n",
       "      <td>NaN</td>\n",
       "      <td>NaN</td>\n",
       "      <td>NaN</td>\n",
       "      <td>NaN</td>\n",
       "      <td>NaN</td>\n",
       "      <td>NaN</td>\n",
       "      <td>NaN</td>\n",
       "      <td>NaN</td>\n",
       "      <td>NaN</td>\n",
       "      <td>NaN</td>\n",
       "      <td>NaN</td>\n",
       "      <td>NaN</td>\n",
       "      <td>NaN</td>\n",
       "      <td>NaN</td>\n",
       "      <td>NaN</td>\n",
       "      <td>NaN</td>\n",
       "      <td>NaN</td>\n",
       "      <td>NaN</td>\n",
       "      <td>360.0</td>\n",
       "      <td>301.0</td>\n",
       "      <td>False</td>\n",
       "      <td>0</td>\n",
       "      <td>0</td>\n",
       "      <td>0</td>\n",
       "      <td>1</td>\n",
       "      <td>1</td>\n",
       "    </tr>\n",
       "    <tr>\n",
       "      <th>4</th>\n",
       "      <td>50</td>\n",
       "      <td>6</td>\n",
       "      <td>1.150000</td>\n",
       "      <td>2120</td>\n",
       "      <td>7</td>\n",
       "      <td>9.720000</td>\n",
       "      <td>1974</td>\n",
       "      <td>5</td>\n",
       "      <td>12.658000</td>\n",
       "      <td>2990</td>\n",
       "      <td>4</td>\n",
       "      <td>65.907500</td>\n",
       "      <td>1016</td>\n",
       "      <td>7</td>\n",
       "      <td>160.667143</td>\n",
       "      <td>2445</td>\n",
       "      <td>7</td>\n",
       "      <td>97.385714</td>\n",
       "      <td>2445</td>\n",
       "      <td>NaN</td>\n",
       "      <td>NaN</td>\n",
       "      <td>NaN</td>\n",
       "      <td>NaN</td>\n",
       "      <td>NaN</td>\n",
       "      <td>NaN</td>\n",
       "      <td>NaN</td>\n",
       "      <td>NaN</td>\n",
       "      <td>360.0</td>\n",
       "      <td>NaN</td>\n",
       "      <td>540.0</td>\n",
       "      <td>NaN</td>\n",
       "      <td>NaN</td>\n",
       "      <td>NaN</td>\n",
       "      <td>NaN</td>\n",
       "      <td>720.0</td>\n",
       "      <td>NaN</td>\n",
       "      <td>NaN</td>\n",
       "      <td>NaN</td>\n",
       "      <td>NaN</td>\n",
       "      <td>NaN</td>\n",
       "      <td>1620.0</td>\n",
       "      <td>481.0</td>\n",
       "      <td>True</td>\n",
       "      <td>0</td>\n",
       "      <td>0</td>\n",
       "      <td>0</td>\n",
       "      <td>1</td>\n",
       "      <td>0</td>\n",
       "    </tr>\n",
       "  </tbody>\n",
       "</table>\n",
       "</div>"
      ],
      "text/plain": [
       "   age  creatinine_no_of_test  ...  race_White  gender_Male\n",
       "0   70                      6  ...           0            1\n",
       "1   71                      5  ...           1            0\n",
       "2   57                      5  ...           1            0\n",
       "3   74                      5  ...           1            1\n",
       "4   50                      6  ...           1            0\n",
       "\n",
       "[5 rows x 48 columns]"
      ]
     },
     "execution_count": 12,
     "metadata": {
      "tags": []
     },
     "output_type": "execute_result"
    }
   ],
   "source": [
    "CKD_dummies.head()"
   ]
  },
  {
   "cell_type": "markdown",
   "metadata": {
    "colab": {},
    "colab_type": "code",
    "id": "9MjITaedE6aU"
   },
   "source": [
    "\n",
    "### Now check, is there any columns with NA/ nul values"
   ]
  },
  {
   "cell_type": "code",
   "execution_count": 13,
   "metadata": {
    "colab": {
     "base_uri": "https://localhost:8080/",
     "height": 850
    },
    "colab_type": "code",
    "id": "2Ywm4wbrE6ld",
    "outputId": "caef78ae-c428-4e1a-bc22-4715caa0ab02"
   },
   "outputs": [
    {
     "data": {
      "text/plain": [
       "age                                0\n",
       "creatinine_no_of_test              0\n",
       "creatinine_mean_value              0\n",
       "creatinine_duration_of_test        0\n",
       "glucose_no_of_test                 0\n",
       "glucose_mean_value                 0\n",
       "glucose_duration_of_test           0\n",
       "HGB_no_of_test                     0\n",
       "HGB_mean_value                     0\n",
       "HGB_duration_of_test               0\n",
       "ldl_no_of_test                     0\n",
       "ldl_mean_value                     0\n",
       "ldl_duration_of_test               0\n",
       "SBP_no_of_test                     0\n",
       "SBP_mean_value                     0\n",
       "SBP_duration_of_test               0\n",
       "DBP_no_of_test                     0\n",
       "DBP_mean_value                     0\n",
       "DBP_duration_of_test               0\n",
       "atenolol                         274\n",
       "atorvastatin                     191\n",
       "bisoprolol                       295\n",
       "canagliflozin                    296\n",
       "carvedilol                       283\n",
       "dapagliflozin                    298\n",
       "irbesartan                       294\n",
       "labetalol                        299\n",
       "losartan                         229\n",
       "lovastatin                       284\n",
       "metformin                        184\n",
       "metoprolol                       240\n",
       "nebivolol                        298\n",
       "olmesartan                       293\n",
       "pitavastatin                     298\n",
       "pravastatin                      272\n",
       "propranolol                      298\n",
       "rosuvastatin                     269\n",
       "simvastatin                      225\n",
       "telmisartan                      296\n",
       "valsartan                        273\n",
       "total_no_of_days_with_drug        28\n",
       "total_no_of_days_without_drug     28\n",
       "Stage_Progress                     0\n",
       "race_Black                         0\n",
       "race_Hispanic                      0\n",
       "race_Unknown                       0\n",
       "race_White                         0\n",
       "gender_Male                        0\n",
       "dtype: int64"
      ]
     },
     "execution_count": 13,
     "metadata": {
      "tags": []
     },
     "output_type": "execute_result"
    }
   ],
   "source": [
    "CKD_dummies.isnull().sum()"
   ]
  },
  {
   "cell_type": "markdown",
   "metadata": {
    "colab": {},
    "colab_type": "code",
    "id": "DGfRMVzxGfNG"
   },
   "source": [
    "\n",
    "### Replace the NA's with zero for further processing"
   ]
  },
  {
   "cell_type": "code",
   "execution_count": 0,
   "metadata": {
    "colab": {},
    "colab_type": "code",
    "id": "uaLw6azcGhct"
   },
   "outputs": [],
   "source": [
    "CKD_dummies.fillna(0,inplace=True)"
   ]
  },
  {
   "cell_type": "markdown",
   "metadata": {
    "colab": {},
    "colab_type": "code",
    "id": "x5-A7HZWGhpz"
   },
   "source": [
    "\n",
    "### Check once again to verify"
   ]
  },
  {
   "cell_type": "code",
   "execution_count": 15,
   "metadata": {
    "colab": {
     "base_uri": "https://localhost:8080/",
     "height": 850
    },
    "colab_type": "code",
    "id": "3b7nEQySGfdU",
    "outputId": "fc64a1ae-df98-47db-884b-3b022f2e3ec4"
   },
   "outputs": [
    {
     "data": {
      "text/plain": [
       "age                              0\n",
       "creatinine_no_of_test            0\n",
       "creatinine_mean_value            0\n",
       "creatinine_duration_of_test      0\n",
       "glucose_no_of_test               0\n",
       "glucose_mean_value               0\n",
       "glucose_duration_of_test         0\n",
       "HGB_no_of_test                   0\n",
       "HGB_mean_value                   0\n",
       "HGB_duration_of_test             0\n",
       "ldl_no_of_test                   0\n",
       "ldl_mean_value                   0\n",
       "ldl_duration_of_test             0\n",
       "SBP_no_of_test                   0\n",
       "SBP_mean_value                   0\n",
       "SBP_duration_of_test             0\n",
       "DBP_no_of_test                   0\n",
       "DBP_mean_value                   0\n",
       "DBP_duration_of_test             0\n",
       "atenolol                         0\n",
       "atorvastatin                     0\n",
       "bisoprolol                       0\n",
       "canagliflozin                    0\n",
       "carvedilol                       0\n",
       "dapagliflozin                    0\n",
       "irbesartan                       0\n",
       "labetalol                        0\n",
       "losartan                         0\n",
       "lovastatin                       0\n",
       "metformin                        0\n",
       "metoprolol                       0\n",
       "nebivolol                        0\n",
       "olmesartan                       0\n",
       "pitavastatin                     0\n",
       "pravastatin                      0\n",
       "propranolol                      0\n",
       "rosuvastatin                     0\n",
       "simvastatin                      0\n",
       "telmisartan                      0\n",
       "valsartan                        0\n",
       "total_no_of_days_with_drug       0\n",
       "total_no_of_days_without_drug    0\n",
       "Stage_Progress                   0\n",
       "race_Black                       0\n",
       "race_Hispanic                    0\n",
       "race_Unknown                     0\n",
       "race_White                       0\n",
       "gender_Male                      0\n",
       "dtype: int64"
      ]
     },
     "execution_count": 15,
     "metadata": {
      "tags": []
     },
     "output_type": "execute_result"
    }
   ],
   "source": [
    "CKD_dummies.isnull().sum()"
   ]
  },
  {
   "cell_type": "markdown",
   "metadata": {
    "colab": {},
    "colab_type": "code",
    "id": "MtcR4t8zHGVK"
   },
   "source": [
    "\n",
    "\n",
    "\n",
    "\n",
    "\n",
    "### Prepare Independent variables and target variable\n",
    "######  1. Split the dataset into train and test \n",
    "######     Traing set = 90%\n",
    "######     Test Set = 10%     (As we have very limited observation points)"
   ]
  },
  {
   "cell_type": "code",
   "execution_count": 16,
   "metadata": {
    "colab": {
     "base_uri": "https://localhost:8080/",
     "height": 51
    },
    "colab_type": "code",
    "id": "-zatXhHPHKRW",
    "outputId": "3389acfd-3e67-41c6-ecb4-82d0299b14b2"
   },
   "outputs": [
    {
     "name": "stdout",
     "output_type": "stream",
     "text": [
      "(300, 47)\n",
      "(300,)\n"
     ]
    }
   ],
   "source": [
    "x = CKD_dummies[[col for col in CKD_dummies.columns if col!='Stage_Progress']]\n",
    "y = CKD_dummies['Stage_Progress']\n",
    "print(x.shape)\n",
    "print(y.shape)"
   ]
  },
  {
   "cell_type": "code",
   "execution_count": 17,
   "metadata": {
    "colab": {
     "base_uri": "https://localhost:8080/",
     "height": 85
    },
    "colab_type": "code",
    "id": "XmJSqBrcHUQG",
    "outputId": "74b05565-2391-495d-d1e4-bdbf51ac8774"
   },
   "outputs": [
    {
     "name": "stdout",
     "output_type": "stream",
     "text": [
      "(270, 47)\n",
      "(30, 47)\n",
      "(270,)\n",
      "(30,)\n"
     ]
    }
   ],
   "source": [
    "x_train,x_test,y_train,y_test = train_test_split(x,y,test_size=0.10,random_state=123)\n",
    "print(x_train.shape)\n",
    "print(x_test.shape)\n",
    "print(y_train.shape)\n",
    "print(y_test.shape)"
   ]
  },
  {
   "cell_type": "markdown",
   "metadata": {
    "colab": {},
    "colab_type": "code",
    "id": "doDBZS_gHvqZ"
   },
   "source": [
    "## Build the Model using Random Forest and also fit the model on the training dataset"
   ]
  },
  {
   "cell_type": "code",
   "execution_count": 18,
   "metadata": {
    "colab": {
     "base_uri": "https://localhost:8080/",
     "height": 153
    },
    "colab_type": "code",
    "id": "Pa9s1jRcHv1C",
    "outputId": "7d297c49-5edd-4b8f-ad00-18721af074eb"
   },
   "outputs": [
    {
     "data": {
      "text/plain": [
       "RandomForestClassifier(bootstrap=True, ccp_alpha=0.0, class_weight=None,\n",
       "                       criterion='gini', max_depth=None, max_features='auto',\n",
       "                       max_leaf_nodes=None, max_samples=None,\n",
       "                       min_impurity_decrease=0.0, min_impurity_split=None,\n",
       "                       min_samples_leaf=1, min_samples_split=2,\n",
       "                       min_weight_fraction_leaf=0.0, n_estimators=100,\n",
       "                       n_jobs=None, oob_score=False, random_state=None,\n",
       "                       verbose=0, warm_start=False)"
      ]
     },
     "execution_count": 18,
     "metadata": {
      "tags": []
     },
     "output_type": "execute_result"
    }
   ],
   "source": [
    "model = RandomForestClassifier()\n",
    "model.fit(x_train,y_train)"
   ]
  },
  {
   "cell_type": "markdown",
   "metadata": {
    "colab": {},
    "colab_type": "code",
    "id": "ldm99A8jHUVF"
   },
   "source": [
    "### Now Have a look at the important features from the model (most significent one)"
   ]
  },
  {
   "cell_type": "code",
   "execution_count": 19,
   "metadata": {
    "colab": {
     "base_uri": "https://localhost:8080/",
     "height": 221
    },
    "colab_type": "code",
    "id": "iVDtkFrCH228",
    "outputId": "d7a25695-f274-4d91-b1ae-35dd389bc4b0"
   },
   "outputs": [
    {
     "name": "stdout",
     "output_type": "stream",
     "text": [
      "[4.44986586e-02 1.69488730e-02 8.27827611e-02 4.17649324e-02\n",
      " 1.91199053e-02 4.97511883e-02 3.86252250e-02 2.74531019e-02\n",
      " 6.30518960e-02 4.60943757e-02 1.62730891e-02 4.64243383e-02\n",
      " 3.80685153e-02 2.08586026e-02 4.87583514e-02 4.07226089e-02\n",
      " 1.51867053e-02 5.47571406e-02 3.69614403e-02 6.18331402e-03\n",
      " 1.76447391e-02 9.28187892e-04 8.35520983e-04 6.57219698e-03\n",
      " 3.61809436e-04 4.35872412e-03 4.24665019e-04 1.49205624e-02\n",
      " 4.45154647e-03 1.97206154e-02 2.24462551e-02 2.46626478e-03\n",
      " 8.84268551e-04 3.47099915e-04 1.40707424e-02 4.84620961e-05\n",
      " 7.11630874e-03 1.12725740e-02 4.08699995e-03 6.57014143e-03\n",
      " 3.80506692e-02 3.94826844e-02 2.68123193e-03 3.09421774e-03\n",
      " 2.70521175e-03 4.16794935e-03 1.60053279e-02]\n"
     ]
    }
   ],
   "source": [
    "print(model.feature_importances_)"
   ]
  },
  {
   "cell_type": "markdown",
   "metadata": {},
   "source": [
    "### Now predict the testing data for accuracy and all"
   ]
  },
  {
   "cell_type": "code",
   "execution_count": 0,
   "metadata": {
    "colab": {},
    "colab_type": "code",
    "id": "KNkEj_5gH_d0"
   },
   "outputs": [],
   "source": [
    "y_pred = model.predict(x_test)"
   ]
  },
  {
   "cell_type": "markdown",
   "metadata": {
    "colab": {},
    "colab_type": "code",
    "id": "0LKiA7hCapsH"
   },
   "source": [
    "### Calculate the ROC score and plot its curve"
   ]
  },
  {
   "cell_type": "code",
   "execution_count": 21,
   "metadata": {
    "colab": {
     "base_uri": "https://localhost:8080/",
     "height": 34
    },
    "colab_type": "code",
    "id": "jpI7AzgUap4U",
    "outputId": "8d972f51-424b-49ec-e42c-be6c98d3fdb6"
   },
   "outputs": [
    {
     "data": {
      "text/plain": [
       "0.8850931677018634"
      ]
     },
     "execution_count": 21,
     "metadata": {
      "tags": []
     },
     "output_type": "execute_result"
    }
   ],
   "source": [
    "rf_probs = model.predict_proba(x_test)[::,1]\n",
    "from sklearn.metrics import roc_auc_score\n",
    "d = pd.DataFrame(y_pred, rf_probs)\n",
    "\n",
    "# Calculate roc auc\n",
    "roc_value = roc_auc_score(y_test, rf_probs)\n",
    "roc_value"
   ]
  },
  {
   "cell_type": "code",
   "execution_count": 22,
   "metadata": {
    "colab": {
     "base_uri": "https://localhost:8080/",
     "height": 279
    },
    "colab_type": "code",
    "id": "wruowVMSb9gE",
    "outputId": "86072514-72f1-44fd-dc2e-5f6fd98dd72e"
   },
   "outputs": [
    {
     "data": {
      "image/png": "[encoded data removed]",
      "text/plain": [
       "<Figure size 432x288 with 1 Axes>"
      ]
     },
     "metadata": {
      "tags": []
     },
     "output_type": "display_data"
    }
   ],
   "source": [
    "import matplotlib.pyplot as plt\n",
    "from sklearn.metrics import plot_roc_curve\n",
    "rf_disp = plot_roc_curve(model, x_test, y_test)\n",
    "plt.show()"
   ]
  },
  {
   "cell_type": "markdown",
   "metadata": {
    "colab": {},
    "colab_type": "code",
    "id": "hUvfaKK6IEFv"
   },
   "source": [
    "### Calculate Recall, Precision and Accuracy along with plot the heat map"
   ]
  },
  {
   "cell_type": "code",
   "execution_count": 23,
   "metadata": {
    "colab": {
     "base_uri": "https://localhost:8080/",
     "height": 102
    },
    "colab_type": "code",
    "id": "Lb6WytYOIEK5",
    "outputId": "8fdbf992-6d3e-4d25-ffac-e7f9fa76b8ec"
   },
   "outputs": [
    {
     "name": "stdout",
     "output_type": "stream",
     "text": [
      "recall:- 28.57142857142857\n",
      "precision:- 100.0\n",
      "Accuracy:- 83.33333333333334\n"
     ]
    },
    {
     "data": {
      "text/plain": [
       "array([[23,  0],\n",
       "       [ 5,  2]])"
      ]
     },
     "execution_count": 23,
     "metadata": {
      "tags": []
     },
     "output_type": "execute_result"
    }
   ],
   "source": [
    "print('recall:-',metrics.recall_score(y_test,y_pred)*100)\n",
    "print('precision:-',metrics.precision_score(y_test,y_pred)*100)\n",
    "print('Accuracy:-',metrics.accuracy_score(y_test,y_pred)*100)\n",
    "metrics.confusion_matrix(y_test,y_pred)"
   ]
  },
  {
   "cell_type": "code",
   "execution_count": 25,
   "metadata": {},
   "outputs": [
    {
     "data": {
      "text/plain": [
       "Text(0.5, 257.44, 'Predicted label')"
      ]
     },
     "execution_count": 25,
     "metadata": {},
     "output_type": "execute_result"
    },
    {
     "data": {
      "image/png": "[encoded data removed]",
      "text/plain": [
       "<Figure size 432x288 with 2 Axes>"
      ]
     },
     "metadata": {
      "needs_background": "light"
     },
     "output_type": "display_data"
    }
   ],
   "source": [
    "class_names=[0,1] # name  of classes\n",
    "fig, ax = plt.subplots()\n",
    "tick_marks = np.arange(len(class_names))\n",
    "plt.xticks(tick_marks, class_names)\n",
    "plt.yticks(tick_marks, class_names)\n",
    "# create heatmap\n",
    "sns.heatmap(pd.DataFrame(cnf_matrix), annot=True, fmt='g',  cmap=\"YlGnBu\")\n",
    "ax.xaxis.set_label_position(\"top\")\n",
    "plt.tight_layout()\n",
    "plt.title('Confusion matrix', y=1.1)\n",
    "plt.ylabel('Actual label')\n",
    "plt.xlabel('Predicted label')"
   ]
  },
  {
   "cell_type": "markdown",
   "metadata": {
    "colab": {},
    "colab_type": "code",
    "id": "Asu3EUZaI1K-"
   },
   "source": [
    "\n",
    "\n",
    "### Have a look at the training data's shape for smoting then do the over sampling on training data"
   ]
  },
  {
   "cell_type": "code",
   "execution_count": 24,
   "metadata": {
    "colab": {
     "base_uri": "https://localhost:8080/",
     "height": 34
    },
    "colab_type": "code",
    "id": "ah4vbZr-I1WF",
    "outputId": "c6ac3a2e-32d6-4b58-bcea-7c74458626fd"
   },
   "outputs": [
    {
     "data": {
      "text/plain": [
       "((270, 47), (270,))"
      ]
     },
     "execution_count": 24,
     "metadata": {
      "tags": []
     },
     "output_type": "execute_result"
    }
   ],
   "source": [
    "x_train.shape, y_train.shape"
   ]
  },
  {
   "cell_type": "code",
   "execution_count": 25,
   "metadata": {
    "colab": {
     "base_uri": "https://localhost:8080/",
     "height": 71
    },
    "colab_type": "code",
    "id": "zARkuq-cI4gt",
    "outputId": "504fa646-3e8c-4bc9-f3ac-46bd92adaad5"
   },
   "outputs": [
    {
     "name": "stderr",
     "output_type": "stream",
     "text": [
      "/usr/local/lib/python3.6/dist-packages/sklearn/utils/deprecation.py:87: FutureWarning: Function safe_indexing is deprecated; safe_indexing is deprecated in version 0.22 and will be removed in version 0.24.\n",
      "  warnings.warn(msg, category=FutureWarning)\n"
     ]
    }
   ],
   "source": [
    "##lets use SMOTE and Oversample minority classes\n",
    "sm = SMOTE(random_state=123,ratio=1.0)\n",
    "x_train, y_train = sm.fit_sample(x_train,y_train)"
   ]
  },
  {
   "cell_type": "code",
   "execution_count": 26,
   "metadata": {
    "colab": {
     "base_uri": "https://localhost:8080/",
     "height": 34
    },
    "colab_type": "code",
    "id": "llysQoDkJQlD",
    "outputId": "3bfb7126-d1cd-4aa1-c2d6-0b28e65ee4fe"
   },
   "outputs": [
    {
     "name": "stdout",
     "output_type": "stream",
     "text": [
      "(354, 47) (354,)\n"
     ]
    }
   ],
   "source": [
    "print(x_train.shape,y_train.shape)"
   ]
  },
  {
   "cell_type": "markdown",
   "metadata": {
    "colab": {},
    "colab_type": "code",
    "id": "_8CRFTWBJXwB"
   },
   "source": [
    "### Build the Random Forest Model on Oversampling data to improve the model Accuracy"
   ]
  },
  {
   "cell_type": "code",
   "execution_count": 27,
   "metadata": {
    "colab": {
     "base_uri": "https://localhost:8080/",
     "height": 102
    },
    "colab_type": "code",
    "id": "422vSznJJXsZ",
    "outputId": "30bfda85-6ebd-48a4-d671-5b05a35e2198"
   },
   "outputs": [
    {
     "name": "stdout",
     "output_type": "stream",
     "text": [
      "recall:- 28.57142857142857\n",
      "precision:- 33.33333333333333\n",
      "Accuracy:- 70.0\n"
     ]
    },
    {
     "data": {
      "text/plain": [
       "array([[19,  4],\n",
       "       [ 5,  2]])"
      ]
     },
     "execution_count": 27,
     "metadata": {
      "tags": []
     },
     "output_type": "execute_result"
    }
   ],
   "source": [
    "## lets apply random forest again and check the recall and precision\n",
    "model_oversampling = RandomForestClassifier()\n",
    "model_oversampling.fit(x_train,y_train)\n",
    "y_pred_oversampling = model_oversampling.predict(x_test)\n",
    "print('recall:-',metrics.recall_score(y_test,y_pred_oversampling)*100)\n",
    "print('precision:-',metrics.precision_score(y_test,y_pred_oversampling)*100)\n",
    "print('Accuracy:-',metrics.accuracy_score(y_test,y_pred_oversampling)*100)\n",
    "metrics.confusion_matrix(y_test,y_pred_oversampling)"
   ]
  },
  {
   "cell_type": "markdown",
   "metadata": {
    "colab": {},
    "colab_type": "code",
    "id": "E9_tPDxIfG56"
   },
   "source": [
    "### Haven't improve the Recall and even Accuracy went down (Might be the less observations point in our dataset)"
   ]
  },
  {
   "cell_type": "markdown",
   "metadata": {},
   "source": [
    "\n",
    "\n",
    "\n",
    "### Plot the ROC curve and see ROC score"
   ]
  },
  {
   "cell_type": "code",
   "execution_count": 28,
   "metadata": {
    "colab": {
     "base_uri": "https://localhost:8080/",
     "height": 279
    },
    "colab_type": "code",
    "id": "CKYjUs4OfHNU",
    "outputId": "aa908ea5-f992-4573-cd75-9e05c202f917"
   },
   "outputs": [
    {
     "data": {
      "image/png": "[encoded data removed]",
      "text/plain": [
       "<Figure size 432x288 with 1 Axes>"
      ]
     },
     "metadata": {
      "tags": []
     },
     "output_type": "display_data"
    }
   ],
   "source": [
    "ax = plt.gca()\n",
    "rf_os_disp = plot_roc_curve(model_oversampling, x_test, y_test, ax=ax, alpha=0.8)\n",
    "rf_disp.plot(ax=ax, alpha=0.8)\n",
    "plt.show()"
   ]
  },
  {
   "cell_type": "code",
   "execution_count": 29,
   "metadata": {
    "colab": {
     "base_uri": "https://localhost:8080/",
     "height": 34
    },
    "colab_type": "code",
    "id": "NlNpgv9Co2mp",
    "outputId": "8253f3c4-eb85-448f-f5e5-1f786dfdf0e5"
   },
   "outputs": [
    {
     "data": {
      "text/plain": [
       "0.6770186335403726"
      ]
     },
     "execution_count": 29,
     "metadata": {
      "tags": []
     },
     "output_type": "execute_result"
    }
   ],
   "source": [
    "rf_probs = model_oversampling.predict_proba(x_test)[::,1]\n",
    "# Calculate roc auc\n",
    "roc_value = roc_auc_score(y_test, rf_probs)\n",
    "roc_value"
   ]
  },
  {
   "cell_type": "markdown",
   "metadata": {
    "colab": {},
    "colab_type": "code",
    "id": "43WlYNO2J7Nq"
   },
   "source": [
    "\n",
    "\n",
    "\n",
    "### Lets try with undersampling the data and build the model to the its improving or not?\n",
    "### And see its Accuracy, recall and all along with heatmap of confusion matrix"
   ]
  },
  {
   "cell_type": "code",
   "execution_count": 30,
   "metadata": {
    "colab": {
     "base_uri": "https://localhost:8080/",
     "height": 173
    },
    "colab_type": "code",
    "id": "yerlXikLJ7aA",
    "outputId": "6cdb56a6-a729-4239-ad26-41a512058a7f"
   },
   "outputs": [
    {
     "name": "stdout",
     "output_type": "stream",
     "text": [
      "(186, 47) (186,)\n",
      "recall:- 85.71428571428571\n",
      "precision:- 46.15384615384615\n",
      "Accuracy:- 73.33333333333333\n"
     ]
    },
    {
     "name": "stderr",
     "output_type": "stream",
     "text": [
      "/usr/local/lib/python3.6/dist-packages/sklearn/utils/deprecation.py:87: FutureWarning: Function safe_indexing is deprecated; safe_indexing is deprecated in version 0.22 and will be removed in version 0.24.\n",
      "  warnings.warn(msg, category=FutureWarning)\n"
     ]
    },
    {
     "data": {
      "text/plain": [
       "array([[16,  7],\n",
       "       [ 1,  6]])"
      ]
     },
     "execution_count": 30,
     "metadata": {
      "tags": []
     },
     "output_type": "execute_result"
    }
   ],
   "source": [
    "## lets try undersampling \n",
    "from imblearn.under_sampling import RandomUnderSampler\n",
    "x_train,x_test,y_train,y_test = train_test_split(x,y,test_size=0.10,random_state=123)\n",
    "underSample = RandomUnderSampler(sampling_strategy=\"majority\")\n",
    "x_train_undersampling, y_train_undersampling = underSample.fit_resample(x_train,y_train)\n",
    "print(x_train_undersampling.shape, y_train_undersampling.shape)\n",
    "model_undersampling = RandomForestClassifier()\n",
    "model_undersampling.fit(x_train_undersampling,y_train_undersampling)\n",
    "y_pred_undersampling = model_undersampling.predict(x_test)\n",
    "print('recall:-',metrics.recall_score(y_test,y_pred_undersampling)*100)\n",
    "print('precision:-',metrics.precision_score(y_test,y_pred_undersampling)*100)\n",
    "print('Accuracy:-',metrics.accuracy_score(y_test,y_pred_undersampling)*100)\n",
    "metrics.confusion_matrix(y_test,y_pred_undersampling)"
   ]
  },
  {
   "cell_type": "code",
   "execution_count": 26,
   "metadata": {
    "colab": {},
    "colab_type": "code",
    "id": "4L-80BmzgLA5"
   },
   "outputs": [
    {
     "data": {
      "text/plain": [
       "Text(0.5, 257.44, 'Predicted label')"
      ]
     },
     "execution_count": 26,
     "metadata": {},
     "output_type": "execute_result"
    },
    {
     "data": {
      "image/png": "[encoded data removed]",
      "text/plain": [
       "<Figure size 432x288 with 2 Axes>"
      ]
     },
     "metadata": {
      "needs_background": "light"
     },
     "output_type": "display_data"
    }
   ],
   "source": [
    "class_names=[0,1] # name  of classes\n",
    "fig, ax = plt.subplots()\n",
    "tick_marks = np.arange(len(class_names))\n",
    "plt.xticks(tick_marks, class_names)\n",
    "plt.yticks(tick_marks, class_names)\n",
    "# create heatmap\n",
    "sns.heatmap(pd.DataFrame(cnf_matrix), annot=True, fmt='g',  cmap=\"YlGnBu\")\n",
    "ax.xaxis.set_label_position(\"top\")\n",
    "plt.tight_layout()\n",
    "plt.title('Confusion matrix', y=1.1)\n",
    "plt.ylabel('Actual label')\n",
    "plt.xlabel('Predicted label')"
   ]
  },
  {
   "cell_type": "markdown",
   "metadata": {},
   "source": [
    "### Plot its ROC Curve and calculate the roc curve "
   ]
  },
  {
   "cell_type": "code",
   "execution_count": 31,
   "metadata": {
    "colab": {
     "base_uri": "https://localhost:8080/",
     "height": 279
    },
    "colab_type": "code",
    "id": "8Uj54Ud5pURh",
    "outputId": "c010b268-a108-4ced-dda4-f8fcd9b1b332"
   },
   "outputs": [
    {
     "data": {
      "image/png": "[encoded data removed]",
      "text/plain": [
       "<Figure size 432x288 with 1 Axes>"
      ]
     },
     "metadata": {
      "tags": []
     },
     "output_type": "display_data"
    }
   ],
   "source": [
    "ax = plt.gca()\n",
    "rf_os_disp = plot_roc_curve(model_undersampling, x_test, y_test, ax=ax, alpha=0.8)\n",
    "rf_disp.plot(ax=ax, alpha=0.8)\n",
    "plt.show()"
   ]
  },
  {
   "cell_type": "code",
   "execution_count": 32,
   "metadata": {
    "colab": {
     "base_uri": "https://localhost:8080/",
     "height": 34
    },
    "colab_type": "code",
    "id": "M30VYfT8gLKf",
    "outputId": "c5400633-7e97-4429-9e02-9b715b6d0df3"
   },
   "outputs": [
    {
     "data": {
      "text/plain": [
       "0.7981366459627329"
      ]
     },
     "execution_count": 32,
     "metadata": {
      "tags": []
     },
     "output_type": "execute_result"
    }
   ],
   "source": [
    "# Calculate roc auc\n",
    "yproba = model_undersampling.predict_proba(x_test)[::,1]\n",
    "roc_value = roc_auc_score(y_test, yproba)\n",
    "roc_value"
   ]
  },
  {
   "cell_type": "markdown",
   "metadata": {
    "colab": {},
    "colab_type": "code",
    "id": "Uf90ZhzlLEEW"
   },
   "source": [
    "### as we see above our recall has improved... so if we are a little satisfied with increase in recall, because we woule like to report if a person has progressed with more accuuracy.. that means we need more recalll score..TP/(TP_FN)"
   ]
  },
  {
   "cell_type": "markdown",
   "metadata": {
    "colab": {},
    "colab_type": "code",
    "id": "54jR2FN-LFpf"
   },
   "source": [
    "## lets use Grid search to optimize or tune RandomForest classifier parameteres."
   ]
  },
  {
   "cell_type": "code",
   "execution_count": 34,
   "metadata": {
    "colab": {
     "base_uri": "https://localhost:8080/",
     "height": 51
    },
    "colab_type": "code",
    "id": "LFtmQxKTLF0n",
    "outputId": "45d44311-b861-4932-afeb-3f12f4e0720d"
   },
   "outputs": [
    {
     "name": "stdout",
     "output_type": "stream",
     "text": [
      "0.6018492176386914\n",
      "{'min_samples_leaf': 7, 'n_estimators': 200}\n"
     ]
    }
   ],
   "source": [
    "from sklearn.model_selection import GridSearchCV,train_test_split\n",
    "param_grid = {\n",
    "    \"n_estimators\" : list(range(100,1000,100)),\n",
    "    \"min_samples_leaf\" : list(range(1,10))\n",
    "}\n",
    "model_grid = RandomForestClassifier(random_state=123)\n",
    "grid = GridSearchCV(estimator=model_grid, param_grid=param_grid)\n",
    "grid.fit(x_train_undersampling,y_train_undersampling)\n",
    "print(grid.best_score_)\n",
    "print(grid.best_params_)"
   ]
  },
  {
   "cell_type": "markdown",
   "metadata": {
    "colab": {},
    "colab_type": "code",
    "id": "eB8J4eiqLL1j"
   },
   "source": [
    "## grid search has reduce the recall , its not much effective"
   ]
  },
  {
   "cell_type": "code",
   "execution_count": 35,
   "metadata": {
    "colab": {
     "base_uri": "https://localhost:8080/",
     "height": 102
    },
    "colab_type": "code",
    "id": "hmPb3aRkLL6i",
    "outputId": "d46e2340-23f8-4082-dded-b6375a0ce5f6"
   },
   "outputs": [
    {
     "name": "stdout",
     "output_type": "stream",
     "text": [
      "recall:- 57.14285714285714\n",
      "precision:- 44.44444444444444\n",
      "Accuracy:- 73.33333333333333\n"
     ]
    },
    {
     "data": {
      "text/plain": [
       "array([[18,  5],\n",
       "       [ 3,  4]])"
      ]
     },
     "execution_count": 35,
     "metadata": {
      "tags": []
     },
     "output_type": "execute_result"
    }
   ],
   "source": [
    "grid_model_with_best_params = RandomForestClassifier(n_estimators=grid.best_params_['n_estimators'],min_samples_leaf=grid.best_params_['min_samples_leaf']) \n",
    "grid_model_with_best_params.fit(x_train_undersampling,y_train_undersampling)\n",
    "y_pred_with_best_params = grid_model_with_best_params.predict(x_test)\n",
    "print('recall:-',metrics.recall_score(y_test,y_pred_with_best_params)*100)\n",
    "print('precision:-',metrics.precision_score(y_test,y_pred_with_best_params)*100)\n",
    "print('Accuracy:-',metrics.accuracy_score(y_test,y_pred_with_best_params)*100)\n",
    "metrics.confusion_matrix(y_test,y_pred_with_best_params)"
   ]
  }
 ],
 "metadata": {
  "accelerator": "GPU",
  "colab": {
   "collapsed_sections": [],
   "name": "Building_Model.ipynb",
   "provenance": []
  },
  "kernelspec": {
   "display_name": "Python 3",
   "language": "python",
   "name": "python3"
  },
  "language_info": {
   "codemirror_mode": {
    "name": "ipython",
    "version": 3
   },
   "file_extension": ".py",
   "mimetype": "text/x-python",
   "name": "python",
   "nbconvert_exporter": "python",
   "pygments_lexer": "ipython3",
   "version": "3.6.10"
  }
 },
 "nbformat": 4,
 "nbformat_minor": 1
}
